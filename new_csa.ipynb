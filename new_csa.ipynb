{
 "cells": [
  {
   "cell_type": "code",
   "execution_count": 2,
   "metadata": {},
   "outputs": [],
   "source": [
    "import pandas as pd"
   ]
  },
  {
   "cell_type": "code",
   "execution_count": 3,
   "metadata": {},
   "outputs": [],
   "source": [
    "import numpy as np"
   ]
  },
  {
   "cell_type": "code",
   "execution_count": 4,
   "metadata": {},
   "outputs": [
    {
     "name": "stderr",
     "output_type": "stream",
     "text": [
      "C:\\Users\\bhavy\\AppData\\Local\\Temp\\ipykernel_21572\\1563150990.py:1: DtypeWarning: Columns (5,8,11,15) have mixed types. Specify dtype option on import or set low_memory=False.\n",
      "  train_df = pd.read_csv(r\"C:\\Users\\bhavy\\Desktop\\CS-Datasets\\Cross Selling\\Train.csv\")\n"
     ]
    }
   ],
   "source": [
    "train_df = pd.read_csv(r\"C:\\Users\\bhavy\\Desktop\\CS-Datasets\\Cross Selling\\Train.csv\")"
   ]
  },
  {
   "cell_type": "code",
   "execution_count": 5,
   "metadata": {},
   "outputs": [
    {
     "name": "stderr",
     "output_type": "stream",
     "text": [
      "C:\\Users\\bhavy\\AppData\\Local\\Temp\\ipykernel_21572\\1818281307.py:1: DtypeWarning: Columns (15) have mixed types. Specify dtype option on import or set low_memory=False.\n",
      "  test_df = pd.read_csv(r\"C:\\Users\\bhavy\\Desktop\\CS-Datasets\\Cross Selling\\Test.csv\")\n"
     ]
    }
   ],
   "source": [
    "test_df = pd.read_csv(r\"C:\\Users\\bhavy\\Desktop\\CS-Datasets\\Cross Selling\\Test.csv\")"
   ]
  },
  {
   "cell_type": "code",
   "execution_count": 6,
   "metadata": {},
   "outputs": [],
   "source": [
    "new_column_names = {\n",
    "    \"fecha_dato\": \"Data_Partition_Date\",\n",
    "    \"ncodpers\": \"Customer_ID\",\n",
    "    \"ind_empleado\": \"Employee_Status\",\n",
    "    \"pais_residencia\": \"Country_of_Residence\",\n",
    "    \"sexo\": \"Gender\",\n",
    "    \"age\": \"Age\",\n",
    "    \"fecha_alta\": \"Account_Start_Date\",\n",
    "    \"ind_nuevo\": \"New_Customer_Indicator\",\n",
    "    \"antiguedad\": \"Seniority_Months\",\n",
    "    \"indrel\": \"Customer_Relationship_Type\",\n",
    "    \"ult_fec_cli_1t\": \"Last_Primary_Customer_Date\",\n",
    "    \"indrel_1mes\": \"Initial_Customer_Type\",\n",
    "    \"tiprel_1mes\": \"Initial_Relationship_Type\",\n",
    "    \"indresi\": \"Residence_Indicator\",\n",
    "    \"indext\": \"Foreigner_Indicator\",\n",
    "    \"conyuemp\": \"Employee_Spouse_Indicator\",\n",
    "    \"canal_entrada\": \"Joining_Channel\",\n",
    "    \"indfall\": \"Deceased_Indicator\",\n",
    "    \"tipodom\": \"Address_Type\",\n",
    "    \"cod_prov\": \"Province_Code\",\n",
    "    \"nomprov\": \"Province_Name\",\n",
    "    \"ind_actividad_cliente\": \"Customer_Activity_Indicator\",\n",
    "    \"renta\": \"Household_Income\",\n",
    "    \"segmento\": \"Customer_Segment\",\n",
    "    \"ind_ahor_fin_ult1\": \"Savings_Account\",\n",
    "    \"ind_aval_fin_ult1\": \"Guarantee_Account\",\n",
    "    \"ind_cco_fin_ult1\": \"Current_Account\",\n",
    "    \"ind_cder_fin_ult1\": \"Derivative_Account\",\n",
    "    \"ind_cno_fin_ult1\": \"Payroll_Account\",\n",
    "    \"ind_ctju_fin_ult1\": \"Junior_Account\",\n",
    "    \"ind_ctma_fin_ult1\": \"Mas_Particular_Account\",\n",
    "    \"ind_ctop_fin_ult1\": \"Particular_Account\",\n",
    "    \"ind_ctpp_fin_ult1\": \"Particular_Plus_Account\",\n",
    "    \"ind_deco_fin_ult1\": \"Short_term_Deposits\",\n",
    "    \"ind_deme_fin_ult1\": \"Medium_term_Deposits\",\n",
    "    \"ind_dela_fin_ult1\": \"Long_term_Deposits\",\n",
    "    \"ind_ecue_fin_ult1\": \"E_Account\",\n",
    "    \"ind_fond_fin_ult1\": \"Funds_Account\",\n",
    "    \"ind_hip_fin_ult1\": \"Mortgage_Account\",\n",
    "    \"ind_plan_fin_ult1\": \"Pension_Account\",\n",
    "    \"ind_pres_fin_ult1\": \"Loan_Account\",\n",
    "    \"ind_reca_fin_ult1\": \"Tax_Account\",\n",
    "    \"ind_tjcr_fin_ult1\": \"Credit_Card_Account\",\n",
    "    \"ind_valo_fin_ult1\": \"Securities_Account\",\n",
    "    \"ind_viv_fin_ult1\": \"Home_Account\",\n",
    "    \"ind_nomina_ult1\": \"Payroll_Account\",\n",
    "    \"ind_nom_pens_ult1\": \"Pension_Account\",\n",
    "    \"ind_recibo_ult1\": \"Direct_Debit\"\n",
    "}\n",
    "\n",
    "# Rename the columns in the DataFrame\n",
    "train_df.rename(columns=new_column_names, inplace=True)\n"
   ]
  },
  {
   "cell_type": "code",
   "execution_count": 7,
   "metadata": {},
   "outputs": [],
   "source": [
    "new_column_names = {\n",
    "    \"fecha_dato\": \"Data_Partition_Date\",\n",
    "    \"ncodpers\": \"Customer_ID\",\n",
    "    \"ind_empleado\": \"Employee_Status\",\n",
    "    \"pais_residencia\": \"Country_of_Residence\",\n",
    "    \"sexo\": \"Gender\",\n",
    "    \"age\": \"Age\",\n",
    "    \"fecha_alta\": \"Account_Start_Date\",\n",
    "    \"ind_nuevo\": \"New_Customer_Indicator\",\n",
    "    \"antiguedad\": \"Seniority_Months\",\n",
    "    \"indrel\": \"Customer_Relationship_Type\",\n",
    "    \"ult_fec_cli_1t\": \"Last_Primary_Customer_Date\",\n",
    "    \"indrel_1mes\": \"Initial_Customer_Type\",\n",
    "    \"tiprel_1mes\": \"Initial_Relationship_Type\",\n",
    "    \"indresi\": \"Residence_Indicator\",\n",
    "    \"indext\": \"Foreigner_Indicator\",\n",
    "    \"conyuemp\": \"Employee_Spouse_Indicator\",\n",
    "    \"canal_entrada\": \"Joining_Channel\",\n",
    "    \"indfall\": \"Deceased_Indicator\",\n",
    "    \"tipodom\": \"Address_Type\",\n",
    "    \"cod_prov\": \"Province_Code\",\n",
    "    \"nomprov\": \"Province_Name\",\n",
    "    \"ind_actividad_cliente\": \"Customer_Activity_Indicator\",\n",
    "    \"renta\": \"Household_Income\",\n",
    "    \"segmento\": \"Customer_Segment\"\n",
    "}\n",
    "\n",
    "# Rename the columns in the DataFrame\n",
    "test_df.rename(columns=new_column_names, inplace=True)\n",
    "\n",
    "# Griffin Comment: For our own convenience, we are going to translate each column from Spanish to English. We both did this in our own way, but our objective– that is, to make the data more readable– is the same."
   ]
  },
  {
   "cell_type": "code",
   "execution_count": 8,
   "metadata": {},
   "outputs": [],
   "source": [
    "pd.set_option('display.max_columns', None)"
   ]
  },
  {
   "cell_type": "code",
   "execution_count": 9,
   "metadata": {},
   "outputs": [
    {
     "data": {
      "text/html": [
       "<div>\n",
       "<style scoped>\n",
       "    .dataframe tbody tr th:only-of-type {\n",
       "        vertical-align: middle;\n",
       "    }\n",
       "\n",
       "    .dataframe tbody tr th {\n",
       "        vertical-align: top;\n",
       "    }\n",
       "\n",
       "    .dataframe thead th {\n",
       "        text-align: right;\n",
       "    }\n",
       "</style>\n",
       "<table border=\"1\" class=\"dataframe\">\n",
       "  <thead>\n",
       "    <tr style=\"text-align: right;\">\n",
       "      <th></th>\n",
       "      <th>Data_Partition_Date</th>\n",
       "      <th>Customer_ID</th>\n",
       "      <th>Employee_Status</th>\n",
       "      <th>Country_of_Residence</th>\n",
       "      <th>Gender</th>\n",
       "      <th>Age</th>\n",
       "      <th>Account_Start_Date</th>\n",
       "      <th>New_Customer_Indicator</th>\n",
       "      <th>Seniority_Months</th>\n",
       "      <th>Customer_Relationship_Type</th>\n",
       "      <th>Last_Primary_Customer_Date</th>\n",
       "      <th>Initial_Customer_Type</th>\n",
       "      <th>Initial_Relationship_Type</th>\n",
       "      <th>Residence_Indicator</th>\n",
       "      <th>Foreigner_Indicator</th>\n",
       "      <th>Employee_Spouse_Indicator</th>\n",
       "      <th>Joining_Channel</th>\n",
       "      <th>Deceased_Indicator</th>\n",
       "      <th>Address_Type</th>\n",
       "      <th>Province_Code</th>\n",
       "      <th>Province_Name</th>\n",
       "      <th>Customer_Activity_Indicator</th>\n",
       "      <th>Household_Income</th>\n",
       "      <th>Customer_Segment</th>\n",
       "      <th>Savings_Account</th>\n",
       "      <th>Guarantee_Account</th>\n",
       "      <th>Current_Account</th>\n",
       "      <th>Derivative_Account</th>\n",
       "      <th>Payroll_Account</th>\n",
       "      <th>Junior_Account</th>\n",
       "      <th>Mas_Particular_Account</th>\n",
       "      <th>Particular_Account</th>\n",
       "      <th>Particular_Plus_Account</th>\n",
       "      <th>Short_term_Deposits</th>\n",
       "      <th>Medium_term_Deposits</th>\n",
       "      <th>Long_term_Deposits</th>\n",
       "      <th>E_Account</th>\n",
       "      <th>Funds_Account</th>\n",
       "      <th>Mortgage_Account</th>\n",
       "      <th>Pension_Account</th>\n",
       "      <th>Loan_Account</th>\n",
       "      <th>Tax_Account</th>\n",
       "      <th>Credit_Card_Account</th>\n",
       "      <th>Securities_Account</th>\n",
       "      <th>Home_Account</th>\n",
       "      <th>Payroll_Account</th>\n",
       "      <th>Pension_Account</th>\n",
       "      <th>Direct_Debit</th>\n",
       "    </tr>\n",
       "  </thead>\n",
       "  <tbody>\n",
       "    <tr>\n",
       "      <th>0</th>\n",
       "      <td>2015-01-28</td>\n",
       "      <td>1375586</td>\n",
       "      <td>N</td>\n",
       "      <td>ES</td>\n",
       "      <td>H</td>\n",
       "      <td>35</td>\n",
       "      <td>2015-01-12</td>\n",
       "      <td>0.0</td>\n",
       "      <td>6</td>\n",
       "      <td>1.0</td>\n",
       "      <td>NaN</td>\n",
       "      <td>1.0</td>\n",
       "      <td>A</td>\n",
       "      <td>S</td>\n",
       "      <td>N</td>\n",
       "      <td>NaN</td>\n",
       "      <td>KHL</td>\n",
       "      <td>N</td>\n",
       "      <td>1.0</td>\n",
       "      <td>29.0</td>\n",
       "      <td>MALAGA</td>\n",
       "      <td>1.0</td>\n",
       "      <td>87218.10</td>\n",
       "      <td>02 - PARTICULARES</td>\n",
       "      <td>0</td>\n",
       "      <td>0</td>\n",
       "      <td>1</td>\n",
       "      <td>0</td>\n",
       "      <td>0</td>\n",
       "      <td>0</td>\n",
       "      <td>0</td>\n",
       "      <td>0</td>\n",
       "      <td>0</td>\n",
       "      <td>0</td>\n",
       "      <td>0</td>\n",
       "      <td>0</td>\n",
       "      <td>0</td>\n",
       "      <td>0</td>\n",
       "      <td>0</td>\n",
       "      <td>0</td>\n",
       "      <td>0</td>\n",
       "      <td>0</td>\n",
       "      <td>0</td>\n",
       "      <td>0</td>\n",
       "      <td>0</td>\n",
       "      <td>0.0</td>\n",
       "      <td>0.0</td>\n",
       "      <td>0</td>\n",
       "    </tr>\n",
       "    <tr>\n",
       "      <th>1</th>\n",
       "      <td>2015-01-28</td>\n",
       "      <td>1050611</td>\n",
       "      <td>N</td>\n",
       "      <td>ES</td>\n",
       "      <td>V</td>\n",
       "      <td>23</td>\n",
       "      <td>2012-08-10</td>\n",
       "      <td>0.0</td>\n",
       "      <td>35</td>\n",
       "      <td>1.0</td>\n",
       "      <td>NaN</td>\n",
       "      <td>1.0</td>\n",
       "      <td>I</td>\n",
       "      <td>S</td>\n",
       "      <td>S</td>\n",
       "      <td>NaN</td>\n",
       "      <td>KHE</td>\n",
       "      <td>N</td>\n",
       "      <td>1.0</td>\n",
       "      <td>13.0</td>\n",
       "      <td>CIUDAD REAL</td>\n",
       "      <td>0.0</td>\n",
       "      <td>35548.74</td>\n",
       "      <td>03 - UNIVERSITARIO</td>\n",
       "      <td>0</td>\n",
       "      <td>0</td>\n",
       "      <td>1</td>\n",
       "      <td>0</td>\n",
       "      <td>0</td>\n",
       "      <td>0</td>\n",
       "      <td>0</td>\n",
       "      <td>0</td>\n",
       "      <td>0</td>\n",
       "      <td>0</td>\n",
       "      <td>0</td>\n",
       "      <td>0</td>\n",
       "      <td>0</td>\n",
       "      <td>0</td>\n",
       "      <td>0</td>\n",
       "      <td>0</td>\n",
       "      <td>0</td>\n",
       "      <td>0</td>\n",
       "      <td>0</td>\n",
       "      <td>0</td>\n",
       "      <td>0</td>\n",
       "      <td>0.0</td>\n",
       "      <td>0.0</td>\n",
       "      <td>0</td>\n",
       "    </tr>\n",
       "    <tr>\n",
       "      <th>2</th>\n",
       "      <td>2015-01-28</td>\n",
       "      <td>1050612</td>\n",
       "      <td>N</td>\n",
       "      <td>ES</td>\n",
       "      <td>V</td>\n",
       "      <td>23</td>\n",
       "      <td>2012-08-10</td>\n",
       "      <td>0.0</td>\n",
       "      <td>35</td>\n",
       "      <td>1.0</td>\n",
       "      <td>NaN</td>\n",
       "      <td>1.0</td>\n",
       "      <td>I</td>\n",
       "      <td>S</td>\n",
       "      <td>N</td>\n",
       "      <td>NaN</td>\n",
       "      <td>KHE</td>\n",
       "      <td>N</td>\n",
       "      <td>1.0</td>\n",
       "      <td>13.0</td>\n",
       "      <td>CIUDAD REAL</td>\n",
       "      <td>0.0</td>\n",
       "      <td>122179.11</td>\n",
       "      <td>03 - UNIVERSITARIO</td>\n",
       "      <td>0</td>\n",
       "      <td>0</td>\n",
       "      <td>1</td>\n",
       "      <td>0</td>\n",
       "      <td>0</td>\n",
       "      <td>0</td>\n",
       "      <td>0</td>\n",
       "      <td>0</td>\n",
       "      <td>0</td>\n",
       "      <td>0</td>\n",
       "      <td>0</td>\n",
       "      <td>0</td>\n",
       "      <td>0</td>\n",
       "      <td>0</td>\n",
       "      <td>0</td>\n",
       "      <td>0</td>\n",
       "      <td>0</td>\n",
       "      <td>0</td>\n",
       "      <td>0</td>\n",
       "      <td>0</td>\n",
       "      <td>0</td>\n",
       "      <td>0.0</td>\n",
       "      <td>0.0</td>\n",
       "      <td>0</td>\n",
       "    </tr>\n",
       "    <tr>\n",
       "      <th>3</th>\n",
       "      <td>2015-01-28</td>\n",
       "      <td>1050613</td>\n",
       "      <td>N</td>\n",
       "      <td>ES</td>\n",
       "      <td>H</td>\n",
       "      <td>22</td>\n",
       "      <td>2012-08-10</td>\n",
       "      <td>0.0</td>\n",
       "      <td>35</td>\n",
       "      <td>1.0</td>\n",
       "      <td>NaN</td>\n",
       "      <td>1.0</td>\n",
       "      <td>I</td>\n",
       "      <td>S</td>\n",
       "      <td>N</td>\n",
       "      <td>NaN</td>\n",
       "      <td>KHD</td>\n",
       "      <td>N</td>\n",
       "      <td>1.0</td>\n",
       "      <td>50.0</td>\n",
       "      <td>ZARAGOZA</td>\n",
       "      <td>0.0</td>\n",
       "      <td>119775.54</td>\n",
       "      <td>03 - UNIVERSITARIO</td>\n",
       "      <td>0</td>\n",
       "      <td>0</td>\n",
       "      <td>0</td>\n",
       "      <td>0</td>\n",
       "      <td>0</td>\n",
       "      <td>0</td>\n",
       "      <td>0</td>\n",
       "      <td>0</td>\n",
       "      <td>0</td>\n",
       "      <td>1</td>\n",
       "      <td>0</td>\n",
       "      <td>0</td>\n",
       "      <td>0</td>\n",
       "      <td>0</td>\n",
       "      <td>0</td>\n",
       "      <td>0</td>\n",
       "      <td>0</td>\n",
       "      <td>0</td>\n",
       "      <td>0</td>\n",
       "      <td>0</td>\n",
       "      <td>0</td>\n",
       "      <td>0.0</td>\n",
       "      <td>0.0</td>\n",
       "      <td>0</td>\n",
       "    </tr>\n",
       "    <tr>\n",
       "      <th>4</th>\n",
       "      <td>2015-01-28</td>\n",
       "      <td>1050614</td>\n",
       "      <td>N</td>\n",
       "      <td>ES</td>\n",
       "      <td>V</td>\n",
       "      <td>23</td>\n",
       "      <td>2012-08-10</td>\n",
       "      <td>0.0</td>\n",
       "      <td>35</td>\n",
       "      <td>1.0</td>\n",
       "      <td>NaN</td>\n",
       "      <td>1.0</td>\n",
       "      <td>A</td>\n",
       "      <td>S</td>\n",
       "      <td>N</td>\n",
       "      <td>NaN</td>\n",
       "      <td>KHE</td>\n",
       "      <td>N</td>\n",
       "      <td>1.0</td>\n",
       "      <td>50.0</td>\n",
       "      <td>ZARAGOZA</td>\n",
       "      <td>1.0</td>\n",
       "      <td>NaN</td>\n",
       "      <td>03 - UNIVERSITARIO</td>\n",
       "      <td>0</td>\n",
       "      <td>0</td>\n",
       "      <td>1</td>\n",
       "      <td>0</td>\n",
       "      <td>0</td>\n",
       "      <td>0</td>\n",
       "      <td>0</td>\n",
       "      <td>0</td>\n",
       "      <td>0</td>\n",
       "      <td>0</td>\n",
       "      <td>0</td>\n",
       "      <td>0</td>\n",
       "      <td>0</td>\n",
       "      <td>0</td>\n",
       "      <td>0</td>\n",
       "      <td>0</td>\n",
       "      <td>0</td>\n",
       "      <td>0</td>\n",
       "      <td>0</td>\n",
       "      <td>0</td>\n",
       "      <td>0</td>\n",
       "      <td>0.0</td>\n",
       "      <td>0.0</td>\n",
       "      <td>0</td>\n",
       "    </tr>\n",
       "  </tbody>\n",
       "</table>\n",
       "</div>"
      ],
      "text/plain": [
       "  Data_Partition_Date  Customer_ID Employee_Status Country_of_Residence  \\\n",
       "0          2015-01-28      1375586               N                   ES   \n",
       "1          2015-01-28      1050611               N                   ES   \n",
       "2          2015-01-28      1050612               N                   ES   \n",
       "3          2015-01-28      1050613               N                   ES   \n",
       "4          2015-01-28      1050614               N                   ES   \n",
       "\n",
       "  Gender  Age Account_Start_Date  New_Customer_Indicator Seniority_Months  \\\n",
       "0      H   35         2015-01-12                     0.0                6   \n",
       "1      V   23         2012-08-10                     0.0               35   \n",
       "2      V   23         2012-08-10                     0.0               35   \n",
       "3      H   22         2012-08-10                     0.0               35   \n",
       "4      V   23         2012-08-10                     0.0               35   \n",
       "\n",
       "   Customer_Relationship_Type Last_Primary_Customer_Date  \\\n",
       "0                         1.0                        NaN   \n",
       "1                         1.0                        NaN   \n",
       "2                         1.0                        NaN   \n",
       "3                         1.0                        NaN   \n",
       "4                         1.0                        NaN   \n",
       "\n",
       "  Initial_Customer_Type Initial_Relationship_Type Residence_Indicator  \\\n",
       "0                   1.0                         A                   S   \n",
       "1                   1.0                         I                   S   \n",
       "2                   1.0                         I                   S   \n",
       "3                   1.0                         I                   S   \n",
       "4                   1.0                         A                   S   \n",
       "\n",
       "  Foreigner_Indicator Employee_Spouse_Indicator Joining_Channel  \\\n",
       "0                   N                       NaN             KHL   \n",
       "1                   S                       NaN             KHE   \n",
       "2                   N                       NaN             KHE   \n",
       "3                   N                       NaN             KHD   \n",
       "4                   N                       NaN             KHE   \n",
       "\n",
       "  Deceased_Indicator  Address_Type  Province_Code Province_Name  \\\n",
       "0                  N           1.0           29.0        MALAGA   \n",
       "1                  N           1.0           13.0   CIUDAD REAL   \n",
       "2                  N           1.0           13.0   CIUDAD REAL   \n",
       "3                  N           1.0           50.0      ZARAGOZA   \n",
       "4                  N           1.0           50.0      ZARAGOZA   \n",
       "\n",
       "   Customer_Activity_Indicator  Household_Income    Customer_Segment  \\\n",
       "0                          1.0          87218.10   02 - PARTICULARES   \n",
       "1                          0.0          35548.74  03 - UNIVERSITARIO   \n",
       "2                          0.0         122179.11  03 - UNIVERSITARIO   \n",
       "3                          0.0         119775.54  03 - UNIVERSITARIO   \n",
       "4                          1.0               NaN  03 - UNIVERSITARIO   \n",
       "\n",
       "   Savings_Account  Guarantee_Account  Current_Account  Derivative_Account  \\\n",
       "0                0                  0                1                   0   \n",
       "1                0                  0                1                   0   \n",
       "2                0                  0                1                   0   \n",
       "3                0                  0                0                   0   \n",
       "4                0                  0                1                   0   \n",
       "\n",
       "   Payroll_Account  Junior_Account  Mas_Particular_Account  \\\n",
       "0                0               0                       0   \n",
       "1                0               0                       0   \n",
       "2                0               0                       0   \n",
       "3                0               0                       0   \n",
       "4                0               0                       0   \n",
       "\n",
       "   Particular_Account  Particular_Plus_Account  Short_term_Deposits  \\\n",
       "0                   0                        0                    0   \n",
       "1                   0                        0                    0   \n",
       "2                   0                        0                    0   \n",
       "3                   0                        0                    1   \n",
       "4                   0                        0                    0   \n",
       "\n",
       "   Medium_term_Deposits  Long_term_Deposits  E_Account  Funds_Account  \\\n",
       "0                     0                   0          0              0   \n",
       "1                     0                   0          0              0   \n",
       "2                     0                   0          0              0   \n",
       "3                     0                   0          0              0   \n",
       "4                     0                   0          0              0   \n",
       "\n",
       "   Mortgage_Account  Pension_Account  Loan_Account  Tax_Account  \\\n",
       "0                 0                0             0            0   \n",
       "1                 0                0             0            0   \n",
       "2                 0                0             0            0   \n",
       "3                 0                0             0            0   \n",
       "4                 0                0             0            0   \n",
       "\n",
       "   Credit_Card_Account  Securities_Account  Home_Account  Payroll_Account  \\\n",
       "0                    0                   0             0              0.0   \n",
       "1                    0                   0             0              0.0   \n",
       "2                    0                   0             0              0.0   \n",
       "3                    0                   0             0              0.0   \n",
       "4                    0                   0             0              0.0   \n",
       "\n",
       "   Pension_Account  Direct_Debit  \n",
       "0              0.0             0  \n",
       "1              0.0             0  \n",
       "2              0.0             0  \n",
       "3              0.0             0  \n",
       "4              0.0             0  "
      ]
     },
     "execution_count": 9,
     "metadata": {},
     "output_type": "execute_result"
    }
   ],
   "source": [
    "train_df.head(5)"
   ]
  },
  {
   "cell_type": "code",
   "execution_count": 10,
   "metadata": {},
   "outputs": [
    {
     "data": {
      "text/html": [
       "<div>\n",
       "<style scoped>\n",
       "    .dataframe tbody tr th:only-of-type {\n",
       "        vertical-align: middle;\n",
       "    }\n",
       "\n",
       "    .dataframe tbody tr th {\n",
       "        vertical-align: top;\n",
       "    }\n",
       "\n",
       "    .dataframe thead th {\n",
       "        text-align: right;\n",
       "    }\n",
       "</style>\n",
       "<table border=\"1\" class=\"dataframe\">\n",
       "  <thead>\n",
       "    <tr style=\"text-align: right;\">\n",
       "      <th></th>\n",
       "      <th>Data_Partition_Date</th>\n",
       "      <th>Customer_ID</th>\n",
       "      <th>Employee_Status</th>\n",
       "      <th>Country_of_Residence</th>\n",
       "      <th>Gender</th>\n",
       "      <th>Age</th>\n",
       "      <th>Account_Start_Date</th>\n",
       "      <th>New_Customer_Indicator</th>\n",
       "      <th>Seniority_Months</th>\n",
       "      <th>Customer_Relationship_Type</th>\n",
       "      <th>Last_Primary_Customer_Date</th>\n",
       "      <th>Initial_Customer_Type</th>\n",
       "      <th>Initial_Relationship_Type</th>\n",
       "      <th>Residence_Indicator</th>\n",
       "      <th>Foreigner_Indicator</th>\n",
       "      <th>Employee_Spouse_Indicator</th>\n",
       "      <th>Joining_Channel</th>\n",
       "      <th>Deceased_Indicator</th>\n",
       "      <th>Address_Type</th>\n",
       "      <th>Province_Code</th>\n",
       "      <th>Province_Name</th>\n",
       "      <th>Customer_Activity_Indicator</th>\n",
       "      <th>Household_Income</th>\n",
       "      <th>Customer_Segment</th>\n",
       "    </tr>\n",
       "  </thead>\n",
       "  <tbody>\n",
       "    <tr>\n",
       "      <th>0</th>\n",
       "      <td>2016-06-28</td>\n",
       "      <td>15889</td>\n",
       "      <td>F</td>\n",
       "      <td>ES</td>\n",
       "      <td>V</td>\n",
       "      <td>56</td>\n",
       "      <td>1995-01-16</td>\n",
       "      <td>0</td>\n",
       "      <td>256</td>\n",
       "      <td>1</td>\n",
       "      <td>NaN</td>\n",
       "      <td>1.0</td>\n",
       "      <td>A</td>\n",
       "      <td>S</td>\n",
       "      <td>N</td>\n",
       "      <td>N</td>\n",
       "      <td>KAT</td>\n",
       "      <td>N</td>\n",
       "      <td>1</td>\n",
       "      <td>28.0</td>\n",
       "      <td>MADRID</td>\n",
       "      <td>1</td>\n",
       "      <td>326124.90</td>\n",
       "      <td>01 - TOP</td>\n",
       "    </tr>\n",
       "    <tr>\n",
       "      <th>1</th>\n",
       "      <td>2016-06-28</td>\n",
       "      <td>1170544</td>\n",
       "      <td>N</td>\n",
       "      <td>ES</td>\n",
       "      <td>H</td>\n",
       "      <td>36</td>\n",
       "      <td>2013-08-28</td>\n",
       "      <td>0</td>\n",
       "      <td>34</td>\n",
       "      <td>1</td>\n",
       "      <td>NaN</td>\n",
       "      <td>1.0</td>\n",
       "      <td>I</td>\n",
       "      <td>S</td>\n",
       "      <td>N</td>\n",
       "      <td>NaN</td>\n",
       "      <td>KAT</td>\n",
       "      <td>N</td>\n",
       "      <td>1</td>\n",
       "      <td>3.0</td>\n",
       "      <td>ALICANTE</td>\n",
       "      <td>0</td>\n",
       "      <td>NA</td>\n",
       "      <td>02 - PARTICULARES</td>\n",
       "    </tr>\n",
       "    <tr>\n",
       "      <th>2</th>\n",
       "      <td>2016-06-28</td>\n",
       "      <td>1170545</td>\n",
       "      <td>N</td>\n",
       "      <td>ES</td>\n",
       "      <td>V</td>\n",
       "      <td>22</td>\n",
       "      <td>2013-08-28</td>\n",
       "      <td>0</td>\n",
       "      <td>34</td>\n",
       "      <td>1</td>\n",
       "      <td>NaN</td>\n",
       "      <td>1.0</td>\n",
       "      <td>A</td>\n",
       "      <td>S</td>\n",
       "      <td>N</td>\n",
       "      <td>NaN</td>\n",
       "      <td>KHE</td>\n",
       "      <td>N</td>\n",
       "      <td>1</td>\n",
       "      <td>15.0</td>\n",
       "      <td>CORUÑA, A</td>\n",
       "      <td>1</td>\n",
       "      <td>NA</td>\n",
       "      <td>03 - UNIVERSITARIO</td>\n",
       "    </tr>\n",
       "    <tr>\n",
       "      <th>3</th>\n",
       "      <td>2016-06-28</td>\n",
       "      <td>1170547</td>\n",
       "      <td>N</td>\n",
       "      <td>ES</td>\n",
       "      <td>H</td>\n",
       "      <td>22</td>\n",
       "      <td>2013-08-28</td>\n",
       "      <td>0</td>\n",
       "      <td>34</td>\n",
       "      <td>1</td>\n",
       "      <td>NaN</td>\n",
       "      <td>1.0</td>\n",
       "      <td>I</td>\n",
       "      <td>S</td>\n",
       "      <td>N</td>\n",
       "      <td>NaN</td>\n",
       "      <td>KHE</td>\n",
       "      <td>N</td>\n",
       "      <td>1</td>\n",
       "      <td>8.0</td>\n",
       "      <td>BARCELONA</td>\n",
       "      <td>0</td>\n",
       "      <td>148402.98</td>\n",
       "      <td>03 - UNIVERSITARIO</td>\n",
       "    </tr>\n",
       "    <tr>\n",
       "      <th>4</th>\n",
       "      <td>2016-06-28</td>\n",
       "      <td>1170548</td>\n",
       "      <td>N</td>\n",
       "      <td>ES</td>\n",
       "      <td>H</td>\n",
       "      <td>22</td>\n",
       "      <td>2013-08-28</td>\n",
       "      <td>0</td>\n",
       "      <td>34</td>\n",
       "      <td>1</td>\n",
       "      <td>NaN</td>\n",
       "      <td>1.0</td>\n",
       "      <td>I</td>\n",
       "      <td>S</td>\n",
       "      <td>N</td>\n",
       "      <td>NaN</td>\n",
       "      <td>KHE</td>\n",
       "      <td>N</td>\n",
       "      <td>1</td>\n",
       "      <td>7.0</td>\n",
       "      <td>BALEARS, ILLES</td>\n",
       "      <td>0</td>\n",
       "      <td>106885.80</td>\n",
       "      <td>03 - UNIVERSITARIO</td>\n",
       "    </tr>\n",
       "  </tbody>\n",
       "</table>\n",
       "</div>"
      ],
      "text/plain": [
       "  Data_Partition_Date  Customer_ID Employee_Status Country_of_Residence  \\\n",
       "0          2016-06-28        15889               F                   ES   \n",
       "1          2016-06-28      1170544               N                   ES   \n",
       "2          2016-06-28      1170545               N                   ES   \n",
       "3          2016-06-28      1170547               N                   ES   \n",
       "4          2016-06-28      1170548               N                   ES   \n",
       "\n",
       "  Gender  Age Account_Start_Date  New_Customer_Indicator  Seniority_Months  \\\n",
       "0      V   56         1995-01-16                       0               256   \n",
       "1      H   36         2013-08-28                       0                34   \n",
       "2      V   22         2013-08-28                       0                34   \n",
       "3      H   22         2013-08-28                       0                34   \n",
       "4      H   22         2013-08-28                       0                34   \n",
       "\n",
       "   Customer_Relationship_Type Last_Primary_Customer_Date  \\\n",
       "0                           1                        NaN   \n",
       "1                           1                        NaN   \n",
       "2                           1                        NaN   \n",
       "3                           1                        NaN   \n",
       "4                           1                        NaN   \n",
       "\n",
       "   Initial_Customer_Type Initial_Relationship_Type Residence_Indicator  \\\n",
       "0                    1.0                         A                   S   \n",
       "1                    1.0                         I                   S   \n",
       "2                    1.0                         A                   S   \n",
       "3                    1.0                         I                   S   \n",
       "4                    1.0                         I                   S   \n",
       "\n",
       "  Foreigner_Indicator Employee_Spouse_Indicator Joining_Channel  \\\n",
       "0                   N                         N             KAT   \n",
       "1                   N                       NaN             KAT   \n",
       "2                   N                       NaN             KHE   \n",
       "3                   N                       NaN             KHE   \n",
       "4                   N                       NaN             KHE   \n",
       "\n",
       "  Deceased_Indicator  Address_Type  Province_Code   Province_Name  \\\n",
       "0                  N             1           28.0          MADRID   \n",
       "1                  N             1            3.0        ALICANTE   \n",
       "2                  N             1           15.0       CORUÑA, A   \n",
       "3                  N             1            8.0       BARCELONA   \n",
       "4                  N             1            7.0  BALEARS, ILLES   \n",
       "\n",
       "   Customer_Activity_Indicator Household_Income    Customer_Segment  \n",
       "0                            1        326124.90            01 - TOP  \n",
       "1                            0               NA   02 - PARTICULARES  \n",
       "2                            1               NA  03 - UNIVERSITARIO  \n",
       "3                            0        148402.98  03 - UNIVERSITARIO  \n",
       "4                            0        106885.80  03 - UNIVERSITARIO  "
      ]
     },
     "execution_count": 10,
     "metadata": {},
     "output_type": "execute_result"
    }
   ],
   "source": [
    "test_df.head(5)"
   ]
  },
  {
   "cell_type": "code",
   "execution_count": 11,
   "metadata": {},
   "outputs": [
    {
     "name": "stdout",
     "output_type": "stream",
     "text": [
      "datetime64[ns]\n"
     ]
    }
   ],
   "source": [
    "# Convert the date_column to datetime dtype\n",
    "train_df['Data_Partition_Date'] = pd.to_datetime(train_df['Data_Partition_Date'])\n",
    "\n",
    "# Check the data type after conversion\n",
    "print(train_df['Data_Partition_Date'].dtype)  # Output: datetime64[ns]\n",
    "\n",
    "# Griffin Comment: Converting to datetime is a good idea to make this column more readable. \n"
   ]
  },
  {
   "cell_type": "code",
   "execution_count": 12,
   "metadata": {},
   "outputs": [
    {
     "name": "stdout",
     "output_type": "stream",
     "text": [
      "datetime64[ns]\n"
     ]
    }
   ],
   "source": [
    "# Convert the date_column to datetime dtype\n",
    "test_df['Data_Partition_Date'] = pd.to_datetime(test_df['Data_Partition_Date'])\n",
    "\n",
    "# Check the data type after conversion\n",
    "print(test_df['Data_Partition_Date'].dtype)  # Output: datetime64[ns]\n"
   ]
  },
  {
   "cell_type": "code",
   "execution_count": 13,
   "metadata": {},
   "outputs": [
    {
     "name": "stdout",
     "output_type": "stream",
     "text": [
      "Min Customer_ID (as integer): 15889\n",
      "Max Customer_ID (as integer): 1553689\n"
     ]
    }
   ],
   "source": [
    "# Convert Customer_ID to numeric (integer) type\n",
    "train_df['Customer_ID_numeric'] = pd.to_numeric(train_df['Customer_ID'], errors='coerce')\n",
    "\n",
    "# Find the min and max Customer_ID as integers\n",
    "min_id = train_df['Customer_ID_numeric'].min()\n",
    "max_id = train_df['Customer_ID_numeric'].max()\n",
    "\n",
    "print(\"Min Customer_ID (as integer):\", min_id)\n",
    "print(\"Max Customer_ID (as integer):\", max_id)\n"
   ]
  },
  {
   "cell_type": "code",
   "execution_count": 14,
   "metadata": {},
   "outputs": [
    {
     "name": "stdout",
     "output_type": "stream",
     "text": [
      "Number of unique Customer_IDs: 956645\n"
     ]
    }
   ],
   "source": [
    "# Check number of unique Customer_IDs\n",
    "unique_customer_ids = train_df['Customer_ID_numeric'].nunique()\n",
    "print(f\"Number of unique Customer_IDs: {unique_customer_ids}\")\n"
   ]
  },
  {
   "cell_type": "code",
   "execution_count": 15,
   "metadata": {},
   "outputs": [
    {
     "name": "stdout",
     "output_type": "stream",
     "text": [
      "1375586    17\n",
      "42515      17\n",
      "42636      17\n",
      "42684      17\n",
      "42685      17\n",
      "42686      17\n",
      "42690      17\n",
      "42695      17\n",
      "42697      17\n",
      "42704      17\n",
      "Name: Customer_ID, dtype: int64\n"
     ]
    }
   ],
   "source": [
    "# Count the frequency of each Customer_ID\n",
    "customer_id_counts = train_df['Customer_ID'].value_counts()\n",
    "\n",
    "# Display the top 10 most frequent Customer_IDs\n",
    "print(customer_id_counts.head(10))\n",
    "\n",
    "# Griffin Comment: Great idea to check the frequency of each Customer_ID. This will help us understand the data better, and help us especially when doing things like mean and median based approaches. "
   ]
  },
  {
   "cell_type": "code",
   "execution_count": 16,
   "metadata": {},
   "outputs": [
    {
     "name": "stdout",
     "output_type": "stream",
     "text": [
      "17    605464\n",
      "11    190917\n",
      "8      28061\n",
      "9      23470\n",
      "7      16098\n",
      "10     14911\n",
      "1      10472\n",
      "6      10012\n",
      "5       8864\n",
      "4       7297\n",
      "2       7256\n",
      "3       7000\n",
      "16      5756\n",
      "15      5548\n",
      "13      5286\n",
      "14      5213\n",
      "12      5020\n",
      "Name: Customer_ID, dtype: int64\n"
     ]
    }
   ],
   "source": [
    "# Distribution of the number of records per Customer_ID\n",
    "record_distribution = customer_id_counts.value_counts()\n",
    "\n",
    "# Display the distribution\n",
    "print(record_distribution)\n",
    "\n",
    "# Griffin Comment: Another good way to gather information about the customer base, which will be especially useful when doing EDA. "
   ]
  },
  {
   "cell_type": "code",
   "execution_count": 17,
   "metadata": {},
   "outputs": [
    {
     "name": "stdout",
     "output_type": "stream",
     "text": [
      "1375586    17\n",
      "42515      17\n",
      "42636      17\n",
      "42684      17\n",
      "42685      17\n",
      "           ..\n",
      "182662     11\n",
      "159536     11\n",
      "165886     11\n",
      "165889     11\n",
      "159563     11\n",
      "Name: Customer_ID, Length: 823204, dtype: int64\n"
     ]
    }
   ],
   "source": [
    "# Filter to find customers with more than, say, 1000 records\n",
    "frequent_customers = customer_id_counts[customer_id_counts > 10]\n",
    "\n",
    "print(frequent_customers)\n"
   ]
  },
  {
   "cell_type": "code",
   "execution_count": 18,
   "metadata": {},
   "outputs": [
    {
     "name": "stdout",
     "output_type": "stream",
     "text": [
      "         Data_Partition_Date  Customer_ID Employee_Status  \\\n",
      "0                 2015-01-28      1375586               N   \n",
      "1047196           2015-02-28      1375586               N   \n",
      "1681276           2015-03-28      1375586               N   \n",
      "2299297           2015-04-28      1375586               N   \n",
      "2714121           2015-05-28      1375586               N   \n",
      "3343336           2015-06-28      1375586               N   \n",
      "4581564           2015-07-28      1375586               N   \n",
      "5075380           2015-08-28      1375586               N   \n",
      "6258167           2015-09-28      1375586               N   \n",
      "6572487           2015-10-28      1375586               N   \n",
      "7786119           2015-11-28      1375586               N   \n",
      "8958911           2015-12-28      1375586               N   \n",
      "9319634           2016-01-28      1375586               N   \n",
      "10165891          2016-02-28      1375586               N   \n",
      "11058687          2016-03-28      1375586               N   \n",
      "12532037          2016-04-28      1375586               N   \n",
      "13226584          2016-05-28      1375586               N   \n",
      "\n",
      "         Country_of_Residence Gender  Age Account_Start_Date  \\\n",
      "0                          ES      H   35         2015-01-12   \n",
      "1047196                    ES      H   35         2015-01-12   \n",
      "1681276                    ES      H   35         2015-01-12   \n",
      "2299297                    ES      H   35         2015-01-12   \n",
      "2714121                    ES      H   35         2015-01-12   \n",
      "3343336                    ES      H   35         2015-01-12   \n",
      "4581564                    ES      H   35         2015-01-12   \n",
      "5075380                    ES      H   36         2015-01-12   \n",
      "6258167                    ES      H   36         2015-01-12   \n",
      "6572487                    ES      H   36         2015-01-12   \n",
      "7786119                    ES      H   36         2015-01-12   \n",
      "8958911                    ES      H   36         2015-01-12   \n",
      "9319634                    ES      H   36         2015-01-12   \n",
      "10165891                   ES      H   36         2015-01-12   \n",
      "11058687                   ES      H   36         2015-01-12   \n",
      "12532037                   ES      H   36         2015-01-12   \n",
      "13226584                   ES      H   36         2015-01-12   \n",
      "\n",
      "          New_Customer_Indicator Seniority_Months  Customer_Relationship_Type  \\\n",
      "0                            0.0                6                         1.0   \n",
      "1047196                      0.0                6                         1.0   \n",
      "1681276                      0.0                6                         1.0   \n",
      "2299297                      0.0                6                         1.0   \n",
      "2714121                      0.0                6                         1.0   \n",
      "3343336                      0.0                6                         1.0   \n",
      "4581564                      0.0                6                         1.0   \n",
      "5075380                      0.0                7                         1.0   \n",
      "6258167                      0.0                8                         1.0   \n",
      "6572487                      0.0                9                         1.0   \n",
      "7786119                      0.0               10                         1.0   \n",
      "8958911                      0.0               11                         1.0   \n",
      "9319634                      0.0               12                         1.0   \n",
      "10165891                     0.0               13                         1.0   \n",
      "11058687                     0.0               14                         1.0   \n",
      "12532037                     0.0               15                         1.0   \n",
      "13226584                     0.0               16                         1.0   \n",
      "\n",
      "         Last_Primary_Customer_Date Initial_Customer_Type  \\\n",
      "0                               NaN                   1.0   \n",
      "1047196                         NaN                   1.0   \n",
      "1681276                         NaN                   1.0   \n",
      "2299297                         NaN                   1.0   \n",
      "2714121                         NaN                   1.0   \n",
      "3343336                         NaN                   1.0   \n",
      "4581564                         NaN                   1.0   \n",
      "5075380                         NaN                   1.0   \n",
      "6258167                         NaN                   1.0   \n",
      "6572487                         NaN                   1.0   \n",
      "7786119                         NaN                   1.0   \n",
      "8958911                         NaN                   1.0   \n",
      "9319634                         NaN                   1.0   \n",
      "10165891                        NaN                   1.0   \n",
      "11058687                        NaN                   1.0   \n",
      "12532037                        NaN                   1.0   \n",
      "13226584                        NaN                   1.0   \n",
      "\n",
      "         Initial_Relationship_Type Residence_Indicator Foreigner_Indicator  \\\n",
      "0                                A                   S                   N   \n",
      "1047196                          A                   S                   N   \n",
      "1681276                          A                   S                   N   \n",
      "2299297                          A                   S                   N   \n",
      "2714121                          A                   S                   N   \n",
      "3343336                          A                   S                   N   \n",
      "4581564                          A                   S                   N   \n",
      "5075380                          A                   S                   N   \n",
      "6258167                          I                   S                   N   \n",
      "6572487                          I                   S                   N   \n",
      "7786119                          I                   S                   N   \n",
      "8958911                          I                   S                   N   \n",
      "9319634                          A                   S                   N   \n",
      "10165891                         A                   S                   N   \n",
      "11058687                         A                   S                   N   \n",
      "12532037                         I                   S                   N   \n",
      "13226584                         A                   S                   N   \n",
      "\n",
      "         Employee_Spouse_Indicator Joining_Channel Deceased_Indicator  \\\n",
      "0                              NaN             KHL                  N   \n",
      "1047196                        NaN             KHL                  N   \n",
      "1681276                        NaN             KHL                  N   \n",
      "2299297                        NaN             KHL                  N   \n",
      "2714121                        NaN             KHL                  N   \n",
      "3343336                        NaN             KHL                  N   \n",
      "4581564                        NaN             KHL                  N   \n",
      "5075380                        NaN             KHL                  N   \n",
      "6258167                        NaN             KHL                  N   \n",
      "6572487                        NaN             KHL                  N   \n",
      "7786119                        NaN             KHL                  N   \n",
      "8958911                        NaN             KHL                  N   \n",
      "9319634                        NaN             KHL                  N   \n",
      "10165891                       NaN             KHL                  N   \n",
      "11058687                       NaN             KHL                  N   \n",
      "12532037                       NaN             KHL                  N   \n",
      "13226584                       NaN             KHL                  N   \n",
      "\n",
      "          Address_Type  Province_Code Province_Name  \\\n",
      "0                  1.0           29.0        MALAGA   \n",
      "1047196            1.0           29.0        MALAGA   \n",
      "1681276            1.0           29.0        MALAGA   \n",
      "2299297            1.0           29.0        MALAGA   \n",
      "2714121            1.0           29.0        MALAGA   \n",
      "3343336            1.0           29.0        MALAGA   \n",
      "4581564            1.0           29.0        MALAGA   \n",
      "5075380            1.0           29.0        MALAGA   \n",
      "6258167            1.0           29.0        MALAGA   \n",
      "6572487            1.0           29.0        MALAGA   \n",
      "7786119            1.0           29.0        MALAGA   \n",
      "8958911            1.0           29.0        MALAGA   \n",
      "9319634            1.0           29.0        MALAGA   \n",
      "10165891           1.0           29.0        MALAGA   \n",
      "11058687           1.0           29.0        MALAGA   \n",
      "12532037           1.0           29.0        MALAGA   \n",
      "13226584           1.0           29.0        MALAGA   \n",
      "\n",
      "          Customer_Activity_Indicator  Household_Income   Customer_Segment  \\\n",
      "0                                 1.0           87218.1  02 - PARTICULARES   \n",
      "1047196                           1.0           87218.1  02 - PARTICULARES   \n",
      "1681276                           1.0           87218.1  02 - PARTICULARES   \n",
      "2299297                           1.0           87218.1  02 - PARTICULARES   \n",
      "2714121                           1.0           87218.1  02 - PARTICULARES   \n",
      "3343336                           1.0           87218.1  02 - PARTICULARES   \n",
      "4581564                           1.0           87218.1  02 - PARTICULARES   \n",
      "5075380                           0.0           87218.1  02 - PARTICULARES   \n",
      "6258167                           0.0           87218.1  02 - PARTICULARES   \n",
      "6572487                           0.0           87218.1  02 - PARTICULARES   \n",
      "7786119                           0.0           87218.1  02 - PARTICULARES   \n",
      "8958911                           0.0           87218.1  02 - PARTICULARES   \n",
      "9319634                           0.0           87218.1  02 - PARTICULARES   \n",
      "10165891                          0.0           87218.1  02 - PARTICULARES   \n",
      "11058687                          1.0           87218.1  02 - PARTICULARES   \n",
      "12532037                          0.0           87218.1  02 - PARTICULARES   \n",
      "13226584                          1.0           87218.1  02 - PARTICULARES   \n",
      "\n",
      "          Savings_Account  Guarantee_Account  Current_Account  \\\n",
      "0                       0                  0                1   \n",
      "1047196                 0                  0                1   \n",
      "1681276                 0                  0                1   \n",
      "2299297                 0                  0                1   \n",
      "2714121                 0                  0                1   \n",
      "3343336                 0                  0                1   \n",
      "4581564                 0                  0                1   \n",
      "5075380                 0                  0                1   \n",
      "6258167                 0                  0                1   \n",
      "6572487                 0                  0                1   \n",
      "7786119                 0                  0                1   \n",
      "8958911                 0                  0                1   \n",
      "9319634                 0                  0                1   \n",
      "10165891                0                  0                1   \n",
      "11058687                0                  0                1   \n",
      "12532037                0                  0                1   \n",
      "13226584                0                  0                1   \n",
      "\n",
      "          Derivative_Account  Payroll_Account  Junior_Account  \\\n",
      "0                          0                0               0   \n",
      "1047196                    0                0               0   \n",
      "1681276                    0                0               0   \n",
      "2299297                    0                0               0   \n",
      "2714121                    0                0               0   \n",
      "3343336                    0                0               0   \n",
      "4581564                    0                0               0   \n",
      "5075380                    0                0               0   \n",
      "6258167                    0                0               0   \n",
      "6572487                    0                0               0   \n",
      "7786119                    0                0               0   \n",
      "8958911                    0                0               0   \n",
      "9319634                    0                0               0   \n",
      "10165891                   0                0               0   \n",
      "11058687                   0                0               0   \n",
      "12532037                   0                0               0   \n",
      "13226584                   0                0               0   \n",
      "\n",
      "          Mas_Particular_Account  Particular_Account  Particular_Plus_Account  \\\n",
      "0                              0                   0                        0   \n",
      "1047196                        0                   0                        0   \n",
      "1681276                        0                   0                        0   \n",
      "2299297                        0                   0                        0   \n",
      "2714121                        0                   0                        0   \n",
      "3343336                        0                   0                        0   \n",
      "4581564                        0                   0                        0   \n",
      "5075380                        0                   0                        0   \n",
      "6258167                        0                   0                        0   \n",
      "6572487                        0                   0                        0   \n",
      "7786119                        0                   0                        0   \n",
      "8958911                        0                   0                        0   \n",
      "9319634                        0                   0                        0   \n",
      "10165891                       0                   0                        0   \n",
      "11058687                       0                   0                        0   \n",
      "12532037                       0                   0                        0   \n",
      "13226584                       0                   0                        0   \n",
      "\n",
      "          Short_term_Deposits  Medium_term_Deposits  Long_term_Deposits  \\\n",
      "0                           0                     0                   0   \n",
      "1047196                     0                     0                   0   \n",
      "1681276                     0                     0                   0   \n",
      "2299297                     0                     0                   0   \n",
      "2714121                     0                     0                   0   \n",
      "3343336                     0                     0                   0   \n",
      "4581564                     0                     0                   0   \n",
      "5075380                     0                     0                   0   \n",
      "6258167                     0                     0                   0   \n",
      "6572487                     0                     0                   0   \n",
      "7786119                     0                     0                   0   \n",
      "8958911                     0                     0                   0   \n",
      "9319634                     0                     0                   0   \n",
      "10165891                    0                     0                   0   \n",
      "11058687                    0                     0                   0   \n",
      "12532037                    0                     0                   0   \n",
      "13226584                    0                     0                   0   \n",
      "\n",
      "          E_Account  Funds_Account  Mortgage_Account  Pension_Account  \\\n",
      "0                 0              0                 0                0   \n",
      "1047196           0              0                 0                0   \n",
      "1681276           0              0                 0                0   \n",
      "2299297           0              0                 0                0   \n",
      "2714121           0              0                 0                0   \n",
      "3343336           0              0                 0                0   \n",
      "4581564           0              0                 0                0   \n",
      "5075380           0              0                 0                0   \n",
      "6258167           0              0                 0                0   \n",
      "6572487           0              0                 0                0   \n",
      "7786119           0              0                 0                0   \n",
      "8958911           0              0                 0                0   \n",
      "9319634           0              0                 0                0   \n",
      "10165891          0              0                 0                0   \n",
      "11058687          0              0                 0                0   \n",
      "12532037          0              0                 0                0   \n",
      "13226584          0              0                 0                0   \n",
      "\n",
      "          Loan_Account  Tax_Account  Credit_Card_Account  Securities_Account  \\\n",
      "0                    0            0                    0                   0   \n",
      "1047196              0            0                    0                   0   \n",
      "1681276              0            0                    0                   0   \n",
      "2299297              0            0                    0                   0   \n",
      "2714121              0            0                    0                   0   \n",
      "3343336              0            0                    0                   0   \n",
      "4581564              0            0                    0                   0   \n",
      "5075380              0            0                    0                   0   \n",
      "6258167              0            0                    0                   0   \n",
      "6572487              0            0                    0                   0   \n",
      "7786119              0            0                    0                   0   \n",
      "8958911              0            0                    0                   0   \n",
      "9319634              0            0                    0                   0   \n",
      "10165891             0            0                    0                   0   \n",
      "11058687             0            0                    0                   0   \n",
      "12532037             0            0                    0                   0   \n",
      "13226584             0            0                    0                   0   \n",
      "\n",
      "          Home_Account  Payroll_Account  Pension_Account  Direct_Debit  \\\n",
      "0                    0              0.0              0.0             0   \n",
      "1047196              0              0.0              0.0             0   \n",
      "1681276              0              0.0              0.0             0   \n",
      "2299297              0              0.0              0.0             0   \n",
      "2714121              0              0.0              0.0             1   \n",
      "3343336              0              0.0              0.0             1   \n",
      "4581564              0              0.0              0.0             1   \n",
      "5075380              0              0.0              0.0             0   \n",
      "6258167              0              0.0              0.0             0   \n",
      "6572487              0              0.0              0.0             0   \n",
      "7786119              0              0.0              0.0             0   \n",
      "8958911              0              0.0              0.0             0   \n",
      "9319634              0              0.0              0.0             0   \n",
      "10165891             0              0.0              0.0             0   \n",
      "11058687             0              0.0              0.0             0   \n",
      "12532037             0              0.0              0.0             0   \n",
      "13226584             0              0.0              0.0             1   \n",
      "\n",
      "          Customer_ID_numeric  \n",
      "0                     1375586  \n",
      "1047196               1375586  \n",
      "1681276               1375586  \n",
      "2299297               1375586  \n",
      "2714121               1375586  \n",
      "3343336               1375586  \n",
      "4581564               1375586  \n",
      "5075380               1375586  \n",
      "6258167               1375586  \n",
      "6572487               1375586  \n",
      "7786119               1375586  \n",
      "8958911               1375586  \n",
      "9319634               1375586  \n",
      "10165891              1375586  \n",
      "11058687              1375586  \n",
      "12532037              1375586  \n",
      "13226584              1375586  \n"
     ]
    }
   ],
   "source": [
    "# Assuming you want to isolate records for a specific Customer_ID, for example, 1375586\n",
    "specific_customer_id = 1375586\n",
    "\n",
    "# Filter the dataframe for the specific Customer_ID\n",
    "customer_records_df = train_df[train_df['Customer_ID'] == specific_customer_id]\n",
    "\n",
    "# Display the filtered dataframe\n",
    "print(customer_records_df)"
   ]
  },
  {
   "cell_type": "markdown",
   "metadata": {},
   "source": [
    "### Next Column"
   ]
  },
  {
   "cell_type": "code",
   "execution_count": 19,
   "metadata": {},
   "outputs": [],
   "source": [
    "train_df['Employee_Status'] = train_df['Employee_Status'].fillna('N')"
   ]
  },
  {
   "cell_type": "code",
   "execution_count": 20,
   "metadata": {},
   "outputs": [],
   "source": [
    "test_df['Employee_Status'] = test_df['Employee_Status'].fillna('N')"
   ]
  },
  {
   "cell_type": "code",
   "execution_count": 21,
   "metadata": {},
   "outputs": [],
   "source": [
    "train_df['Country_of_Residence'] = train_df['Country_of_Residence'].fillna('ES')"
   ]
  },
  {
   "cell_type": "code",
   "execution_count": 22,
   "metadata": {},
   "outputs": [],
   "source": [
    "test_df['Country_of_Residence'] = test_df['Country_of_Residence'].fillna('ES')"
   ]
  },
  {
   "cell_type": "code",
   "execution_count": 23,
   "metadata": {},
   "outputs": [],
   "source": [
    "train_df['Gender'] = train_df['Gender'].replace({'H': 'M', 'V': 'F'})"
   ]
  },
  {
   "cell_type": "code",
   "execution_count": 24,
   "metadata": {},
   "outputs": [],
   "source": [
    "test_df['Gender'] = test_df['Gender'].replace({'H': 'M', 'V': 'F'})"
   ]
  },
  {
   "cell_type": "code",
   "execution_count": 25,
   "metadata": {},
   "outputs": [
    {
     "name": "stdout",
     "output_type": "stream",
     "text": [
      "0.545119077382034\n",
      "0.4548809226179659\n"
     ]
    }
   ],
   "source": [
    "total_non_null = 7424252 + 6195253\n",
    "fp = 7424252 / total_non_null\n",
    "mp = 6195253 / total_non_null\n",
    "\n",
    "print(fp)\n",
    "print(mp)"
   ]
  },
  {
   "cell_type": "code",
   "execution_count": 26,
   "metadata": {},
   "outputs": [],
   "source": [
    "fill_values = np.random.choice(['M', 'F'], size= train_df['Gender'].isna().sum(), p=[fp,mp])\n",
    "train_df.loc[train_df['Gender'].isna(), 'Gender']= fill_values"
   ]
  },
  {
   "cell_type": "code",
   "execution_count": 27,
   "metadata": {},
   "outputs": [],
   "source": [
    "fill_values = np.random.choice(['M', 'F'], size= test_df['Gender'].isna().sum(), p=[fp,mp])\n",
    "test_df.loc[test_df['Gender'].isna(), 'Gender']= fill_values"
   ]
  },
  {
   "cell_type": "markdown",
   "metadata": {},
   "source": [
    "### Lets check age datatype and unique values"
   ]
  },
  {
   "cell_type": "code",
   "execution_count": 28,
   "metadata": {},
   "outputs": [
    {
     "name": "stdout",
     "output_type": "stream",
     "text": [
      "[' 35' ' 23' ' 22' ' 24' ' 65' ' 28' ' 25' ' 26' ' 53' ' 27' ' 32' ' 37'\n",
      " ' 31' ' 39' ' 63' ' 33' ' 55' ' 42' ' 58' ' 38' ' 50' ' 30' ' 45' ' 44'\n",
      " ' 36' ' 29' ' 60' ' 57' ' 67' ' 47' ' NA' ' 34' ' 48' ' 46' ' 54' ' 84'\n",
      " ' 15' ' 12' '  8' '  6' ' 83' ' 40' ' 77' ' 69' ' 52' ' 59' ' 43' ' 10'\n",
      " '  9' ' 49' ' 41' ' 51' ' 78' ' 16' ' 11' ' 73' ' 62' ' 66' ' 17' ' 68'\n",
      " ' 82' ' 95' ' 96' ' 56' ' 61' ' 79' ' 72' ' 14' ' 19' ' 13' ' 86' ' 64'\n",
      " ' 20' ' 89' ' 71' '  7' ' 70' ' 74' ' 21' ' 18' ' 75' '  4' ' 80' ' 81'\n",
      " '  5' ' 76' ' 92' ' 93' ' 85' ' 91' ' 87' ' 90' ' 94' ' 99' ' 98' ' 88'\n",
      " ' 97' '100' '101' '106' '103' '  3' '  2' '102' '104' '111' '107' '109'\n",
      " '105' '112' '115' '110' '116' '108' '113' 37 81 43 30 45 41 67 59 46 36\n",
      " 47 69 39 44 40 38 34 42 31 35 48 60 54 51 33 62 50 11 57 55 85 80 70 32\n",
      " 52 94 61 13 29 49 76 28 63 10 88 68 64 58 56 79 53 77 74 82 89 86 72 95\n",
      " 66 71 78 75 27 22 23 65 21 26 98 19 84 83 90 12 14 87 93 18 92 99 17 97\n",
      " 102 16 73 91 15 25 24 20 96 104 110 103 106 105 111 109 101 100 108 107 9\n",
      " 113 2 112 3 8 7 6 126 115 117 163 116 5 4 127 114 164]\n"
     ]
    }
   ],
   "source": [
    "unique_age_values = train_df['Age'].unique()\n",
    "print(unique_age_values)"
   ]
  },
  {
   "cell_type": "code",
   "execution_count": 29,
   "metadata": {},
   "outputs": [],
   "source": [
    "train_df['Age'] = train_df['Age'].astype(str).str.strip()"
   ]
  },
  {
   "cell_type": "code",
   "execution_count": 30,
   "metadata": {},
   "outputs": [],
   "source": [
    "train_df['Age'] = pd.to_numeric(train_df['Age'], errors='coerce')"
   ]
  },
  {
   "cell_type": "code",
   "execution_count": 31,
   "metadata": {},
   "outputs": [],
   "source": [
    "lower_limit = 15\n",
    "upper_limit = 100\n",
    "\n",
    "train_df_filtered = train_df[(train_df['Age'] >= lower_limit) & (train_df['Age'] <= upper_limit)]"
   ]
  },
  {
   "cell_type": "code",
   "execution_count": 32,
   "metadata": {},
   "outputs": [],
   "source": [
    "train_df['Age'] = train_df_filtered['Age']"
   ]
  },
  {
   "cell_type": "code",
   "execution_count": 33,
   "metadata": {},
   "outputs": [],
   "source": [
    "train_df['Age'] = train_df['Age'].fillna(58)"
   ]
  },
  {
   "cell_type": "code",
   "execution_count": 34,
   "metadata": {},
   "outputs": [],
   "source": [
    "train_df['Age'] = train_df['Age'].replace(57.5, 58)"
   ]
  },
  {
   "cell_type": "code",
   "execution_count": 35,
   "metadata": {},
   "outputs": [
    {
     "name": "stdout",
     "output_type": "stream",
     "text": [
      "[ 56  36  22  51  41  33  23  43  63  62  32  58  71  31  30  59  45  37\n",
      "  39  38  46  34  35  42  29  88  64  48  72  47  27  24  50  49  57  67\n",
      "  25  28  13  40  53  54  26  11  21  60  44  55   7  52  66  90  73  78\n",
      "  79  61  69  12   9  65  77  83  81  10   5  18  17  87  70  80  75  68\n",
      "  74  16   4  82  91  76  19  15   6  97  89  85  86  14  20   8  84  95\n",
      "  93 100  96  92  98  94 105 102 101 104 103  99   3   2 116 106 107 109\n",
      " 110 117 108 113 111 112 114 164 118 127]\n"
     ]
    }
   ],
   "source": [
    "print(test_df['Age'].unique())"
   ]
  },
  {
   "cell_type": "code",
   "execution_count": 36,
   "metadata": {},
   "outputs": [],
   "source": [
    "lower_limit = 15\n",
    "upper_limit = 100\n",
    "\n",
    "test_df_filtered = test_df[(test_df['Age'] >= lower_limit) & (test_df['Age'] <= upper_limit)]"
   ]
  },
  {
   "cell_type": "code",
   "execution_count": 37,
   "metadata": {},
   "outputs": [],
   "source": [
    "test_df['Age'] = test_df_filtered['Age']"
   ]
  },
  {
   "cell_type": "code",
   "execution_count": 38,
   "metadata": {},
   "outputs": [
    {
     "name": "stdout",
     "output_type": "stream",
     "text": [
      "[ 56.  36.  22.  51.  41.  33.  23.  43.  63.  62.  32.  58.  71.  31.\n",
      "  30.  59.  45.  37.  39.  38.  46.  34.  35.  42.  29.  88.  64.  48.\n",
      "  72.  47.  27.  24.  50.  49.  57.  67.  25.  28.  nan  40.  53.  54.\n",
      "  26.  21.  60.  44.  55.  52.  66.  90.  73.  78.  79.  61.  69.  65.\n",
      "  77.  83.  81.  18.  17.  87.  70.  80.  75.  68.  74.  16.  82.  91.\n",
      "  76.  19.  15.  97.  89.  85.  86.  20.  84.  95.  93. 100.  96.  92.\n",
      "  98.  94.  99.]\n"
     ]
    }
   ],
   "source": [
    "print(test_df['Age'].unique())"
   ]
  },
  {
   "cell_type": "code",
   "execution_count": 39,
   "metadata": {},
   "outputs": [],
   "source": [
    "test_df['Age'] = test_df['Age'].fillna(58)"
   ]
  },
  {
   "cell_type": "markdown",
   "metadata": {},
   "source": [
    "## before working on Null values of \"account start date\", lets work on Seniority in months"
   ]
  },
  {
   "cell_type": "code",
   "execution_count": 40,
   "metadata": {},
   "outputs": [],
   "source": [
    "train_df['Seniority_Months'] = train_df['Seniority_Months'].astype(str).str.strip()"
   ]
  },
  {
   "cell_type": "code",
   "execution_count": 41,
   "metadata": {},
   "outputs": [],
   "source": [
    "train_df['Seniority_Months'] =pd.to_numeric(train_df['Seniority_Months'], errors='coerce')"
   ]
  },
  {
   "cell_type": "code",
   "execution_count": 42,
   "metadata": {},
   "outputs": [],
   "source": [
    "# Assuming you want to keep values between 0 and 255 (adjust as needed)\n",
    "lower_limit = 0\n",
    "upper_limit = 255\n",
    "\n",
    "train_df_filtered = train_df[(train_df['Seniority_Months'] >= lower_limit) & (train_df['Seniority_Months'] <= upper_limit)]"
   ]
  },
  {
   "cell_type": "code",
   "execution_count": 43,
   "metadata": {},
   "outputs": [],
   "source": [
    "mean_seniority = train_df_filtered['Seniority_Months'].mean()\n",
    "train_df['Seniority_Months'] = train_df['Seniority_Months'].fillna(mean_seniority)"
   ]
  },
  {
   "cell_type": "code",
   "execution_count": 44,
   "metadata": {},
   "outputs": [],
   "source": [
    "train_df['Seniority_Months'] = train_df['Seniority_Months'].astype(int)"
   ]
  },
  {
   "cell_type": "code",
   "execution_count": 45,
   "metadata": {},
   "outputs": [],
   "source": [
    "train_df['Seniority_Months'] = train_df['Seniority_Months'].replace(-999999, 77)"
   ]
  },
  {
   "cell_type": "code",
   "execution_count": 46,
   "metadata": {},
   "outputs": [],
   "source": [
    "test_df['Seniority_Months'] = test_df['Seniority_Months'].replace(-999999, 77)"
   ]
  },
  {
   "cell_type": "markdown",
   "metadata": {},
   "source": [
    "### Now seniority_months column is in Int, let's work on account start date."
   ]
  },
  {
   "cell_type": "code",
   "execution_count": 47,
   "metadata": {},
   "outputs": [
    {
     "name": "stdout",
     "output_type": "stream",
     "text": [
      "datetime64[ns]\n"
     ]
    }
   ],
   "source": [
    "# Convert the date_column to datetime dtype\n",
    "train_df['Account_Start_Date'] = pd.to_datetime(train_df['Account_Start_Date'])\n",
    "\n",
    "# Check the data type after conversion\n",
    "print(train_df['Account_Start_Date'].dtype)  # Output: datetime64[ns]\n"
   ]
  },
  {
   "cell_type": "code",
   "execution_count": 48,
   "metadata": {},
   "outputs": [
    {
     "name": "stdout",
     "output_type": "stream",
     "text": [
      "datetime64[ns]\n"
     ]
    }
   ],
   "source": [
    "# Convert the date_column to datetime dtype\n",
    "test_df['Account_Start_Date'] = pd.to_datetime(test_df['Account_Start_Date'])\n",
    "\n",
    "# Check the data type after conversion\n",
    "print(test_df['Account_Start_Date'].dtype)  # Output: datetime64[ns]\n"
   ]
  },
  {
   "cell_type": "code",
   "execution_count": 49,
   "metadata": {},
   "outputs": [],
   "source": [
    "train_df['Estimated_start_date'] = train_df['Data_Partition_Date'] - pd.to_timedelta(train_df['Seniority_Months'], unit= 'm')"
   ]
  },
  {
   "cell_type": "code",
   "execution_count": 50,
   "metadata": {},
   "outputs": [],
   "source": [
    "# Fill missing values in 'Account_Start_Date' with the calculated values\n",
    "train_df['Account_Start_Date'] = train_df['Account_Start_Date'].fillna(train_df['Estimated_start_date'])"
   ]
  },
  {
   "cell_type": "markdown",
   "metadata": {},
   "source": [
    "### Lets move to next column with New_Customer_Indicator Column"
   ]
  },
  {
   "cell_type": "code",
   "execution_count": 51,
   "metadata": {},
   "outputs": [
    {
     "name": "stdout",
     "output_type": "stream",
     "text": [
      "0.0    12808368\n",
      "1.0      811207\n",
      "Name: New_Customer_Indicator, dtype: int64\n"
     ]
    }
   ],
   "source": [
    "unique_values = train_df['New_Customer_Indicator'].value_counts()\n",
    "print(unique_values)"
   ]
  },
  {
   "cell_type": "code",
   "execution_count": 52,
   "metadata": {},
   "outputs": [
    {
     "name": "stdout",
     "output_type": "stream",
     "text": [
      "int32\n",
      "[0 1]\n"
     ]
    }
   ],
   "source": [
    "# Step 1: Replace NaN values with 0\n",
    "train_df['New_Customer_Indicator'] = train_df['New_Customer_Indicator'].fillna(0)\n",
    "\n",
    "# Step 2: Convert the column to integer\n",
    "train_df['New_Customer_Indicator'] = train_df['New_Customer_Indicator'].astype(int)\n",
    "\n",
    "# Verify the changes\n",
    "print(train_df['New_Customer_Indicator'].dtype)  # Should be int\n",
    "print(train_df['New_Customer_Indicator'].unique())  # Should show [0, 1]\n"
   ]
  },
  {
   "cell_type": "markdown",
   "metadata": {},
   "source": [
    "### Now let's move to next column"
   ]
  },
  {
   "cell_type": "code",
   "execution_count": 53,
   "metadata": {},
   "outputs": [
    {
     "name": "stdout",
     "output_type": "stream",
     "text": [
      "1.0     13594782\n",
      "99.0       24793\n",
      "Name: Customer_Relationship_Type, dtype: int64\n"
     ]
    }
   ],
   "source": [
    "\n",
    "unique_values = train_df['Customer_Relationship_Type'].value_counts()\n",
    "print(unique_values)"
   ]
  },
  {
   "cell_type": "code",
   "execution_count": 54,
   "metadata": {},
   "outputs": [],
   "source": [
    "train_df['Customer_Relationship_Type'] = train_df['Customer_Relationship_Type'].fillna(1)"
   ]
  },
  {
   "cell_type": "code",
   "execution_count": 55,
   "metadata": {},
   "outputs": [],
   "source": [
    "train_df['Customer_Relationship_Type'] = train_df['Customer_Relationship_Type'].astype(int)"
   ]
  },
  {
   "cell_type": "markdown",
   "metadata": {},
   "source": [
    "### Next column - Last_Primary_Customer_Date"
   ]
  },
  {
   "cell_type": "code",
   "execution_count": 56,
   "metadata": {},
   "outputs": [],
   "source": [
    "train_df['Last_Primary_Customer_Date'] = pd.to_datetime(train_df['Last_Primary_Customer_Date'])"
   ]
  },
  {
   "cell_type": "code",
   "execution_count": 57,
   "metadata": {},
   "outputs": [],
   "source": [
    "# Fill NaN values with a specific placeholder date (e.g., '1900-01-01')\n",
    "train_df['Last_Primary_Customer_Date'] = train_df['Last_Primary_Customer_Date'].fillna(pd.to_datetime('1900-01-01'))"
   ]
  },
  {
   "cell_type": "code",
   "execution_count": 85,
   "metadata": {},
   "outputs": [],
   "source": [
    "test_df['Last_Primary_Customer_Date'] = pd.to_datetime(test_df['Last_Primary_Customer_Date'])"
   ]
  },
  {
   "cell_type": "code",
   "execution_count": 86,
   "metadata": {},
   "outputs": [],
   "source": [
    "# Fill NaN values with a specific placeholder date (e.g., '1900-01-01')\n",
    "test_df['Last_Primary_Customer_Date'] = test_df['Last_Primary_Customer_Date'].fillna(pd.to_datetime('1900-01-01'))"
   ]
  },
  {
   "cell_type": "markdown",
   "metadata": {},
   "source": [
    "### Lets move to next column - Initial_Customer_Type"
   ]
  },
  {
   "cell_type": "code",
   "execution_count": 58,
   "metadata": {},
   "outputs": [
    {
     "name": "stdout",
     "output_type": "stream",
     "text": [
      "1.0    7277607\n",
      "1.0    4017746\n",
      "1      2195328\n",
      "3.0       1804\n",
      "3.0       1409\n",
      "3         1137\n",
      "P          874\n",
      "2          483\n",
      "2.0        479\n",
      "2.0        355\n",
      "4.0        143\n",
      "4.0         93\n",
      "4           70\n",
      "Name: Initial_Customer_Type, dtype: int64\n"
     ]
    }
   ],
   "source": [
    "unique_values= train_df['Initial_Customer_Type'].value_counts()\n",
    "print(unique_values)"
   ]
  },
  {
   "cell_type": "code",
   "execution_count": 59,
   "metadata": {},
   "outputs": [],
   "source": [
    "train_df['Initial_Customer_Type'] = train_df['Initial_Customer_Type'].fillna(1)"
   ]
  },
  {
   "cell_type": "code",
   "execution_count": 60,
   "metadata": {},
   "outputs": [
    {
     "name": "stderr",
     "output_type": "stream",
     "text": [
      "C:\\Users\\bhavy\\AppData\\Local\\Temp\\ipykernel_21572\\613794643.py:1: FutureWarning: The default value of regex will change from True to False in a future version.\n",
      "  train_df['Initial_Customer_Type'] = train_df['Initial_Customer_Type'].astype(str).str.replace('.0', '')\n"
     ]
    }
   ],
   "source": [
    "train_df['Initial_Customer_Type'] = train_df['Initial_Customer_Type'].astype(str).str.replace('.0', '')"
   ]
  },
  {
   "cell_type": "code",
   "execution_count": 61,
   "metadata": {},
   "outputs": [],
   "source": [
    "test_df['Initial_Customer_Type'] = test_df['Initial_Customer_Type'].fillna(1)"
   ]
  },
  {
   "cell_type": "code",
   "execution_count": 62,
   "metadata": {},
   "outputs": [
    {
     "name": "stderr",
     "output_type": "stream",
     "text": [
      "C:\\Users\\bhavy\\AppData\\Local\\Temp\\ipykernel_21572\\4048615097.py:1: FutureWarning: The default value of regex will change from True to False in a future version.\n",
      "  test_df['Initial_Customer_Type'] = test_df['Initial_Customer_Type'].astype(str).str.replace('.0', '')\n"
     ]
    }
   ],
   "source": [
    "test_df['Initial_Customer_Type'] = test_df['Initial_Customer_Type'].astype(str).str.replace('.0', '')"
   ]
  },
  {
   "cell_type": "markdown",
   "metadata": {},
   "source": [
    "### Lets move to next column - Initial_Relationship_Type"
   ]
  },
  {
   "cell_type": "code",
   "execution_count": 63,
   "metadata": {},
   "outputs": [
    {
     "name": "stdout",
     "output_type": "stream",
     "text": [
      "I    535943\n",
      "A    393622\n",
      "P        27\n",
      "Name: Initial_Relationship_Type, dtype: int64\n"
     ]
    }
   ],
   "source": [
    "unique_values = test_df['Initial_Relationship_Type'].value_counts()\n",
    "print(unique_values)"
   ]
  },
  {
   "cell_type": "code",
   "execution_count": 64,
   "metadata": {},
   "outputs": [],
   "source": [
    "train_df['Initial_Relationship_Type'] = train_df['Initial_Relationship_Type'].fillna('I')"
   ]
  },
  {
   "cell_type": "code",
   "execution_count": 65,
   "metadata": {},
   "outputs": [],
   "source": [
    "train_df['Initial_Relationship_Type'] = train_df['Initial_Relationship_Type'].replace('N', 'I')"
   ]
  },
  {
   "cell_type": "code",
   "execution_count": 66,
   "metadata": {},
   "outputs": [],
   "source": [
    "test_df['Initial_Relationship_Type'] = test_df['Initial_Relationship_Type'].fillna('I')"
   ]
  },
  {
   "cell_type": "markdown",
   "metadata": {},
   "source": [
    "### Lets move to next column - Residence_Indicator"
   ]
  },
  {
   "cell_type": "code",
   "execution_count": 67,
   "metadata": {},
   "outputs": [
    {
     "name": "stdout",
     "output_type": "stream",
     "text": [
      "S    13553711\n",
      "N       65864\n",
      "Name: Residence_Indicator, dtype: int64\n"
     ]
    }
   ],
   "source": [
    "unique_values= train_df['Residence_Indicator'].value_counts()\n",
    "print(unique_values)"
   ]
  },
  {
   "cell_type": "code",
   "execution_count": 68,
   "metadata": {},
   "outputs": [],
   "source": [
    "train_df['Residence_Indicator'] = train_df['Residence_Indicator'].fillna('S')"
   ]
  },
  {
   "cell_type": "code",
   "execution_count": 69,
   "metadata": {},
   "outputs": [],
   "source": [
    "train_df['Residence_Indicator'] = train_df['Residence_Indicator'].replace({'S': 'Yes', 'N': 'No'})"
   ]
  },
  {
   "cell_type": "markdown",
   "metadata": {},
   "source": [
    "### Lets move to next column - Foreigner_Indicator "
   ]
  },
  {
   "cell_type": "code",
   "execution_count": 70,
   "metadata": {},
   "outputs": [
    {
     "name": "stdout",
     "output_type": "stream",
     "text": [
      "N    12974839\n",
      "S      644736\n",
      "Name: Foreigner_Indicator, dtype: int64\n"
     ]
    }
   ],
   "source": [
    "unique_values= train_df['Foreigner_Indicator'].value_counts()\n",
    "print(unique_values)"
   ]
  },
  {
   "cell_type": "code",
   "execution_count": 71,
   "metadata": {},
   "outputs": [],
   "source": [
    "train_df['Foreigner_Indicator'] = train_df['Foreigner_Indicator'].fillna('N')"
   ]
  },
  {
   "cell_type": "code",
   "execution_count": 72,
   "metadata": {},
   "outputs": [],
   "source": [
    "train_df['Foreigner_Indicator'] = train_df['Foreigner_Indicator'].replace({'S': 'Yes', 'N': 'No'})"
   ]
  },
  {
   "cell_type": "markdown",
   "metadata": {},
   "source": [
    "### Lets move to next column - Employee_spouse_indicator "
   ]
  },
  {
   "cell_type": "code",
   "execution_count": 78,
   "metadata": {},
   "outputs": [
    {
     "name": "stdout",
     "output_type": "stream",
     "text": [
      "0.0    13647292\n",
      "1.0          17\n",
      "Name: Employee_Spouse_Indicator, dtype: int64\n"
     ]
    }
   ],
   "source": [
    "unique_values=train_df['Employee_Spouse_Indicator'].value_counts()\n",
    "print(unique_values)"
   ]
  },
  {
   "cell_type": "code",
   "execution_count": 75,
   "metadata": {},
   "outputs": [],
   "source": [
    "# Start by encoding 'Employee_Spouse_Indicator' to numeric (S: 1, N: 0)\n",
    "train_df['Employee_Spouse_Indicator'] = train_df['Employee_Spouse_Indicator'].replace({'S': 1, 'N': 0})"
   ]
  },
  {
   "cell_type": "code",
   "execution_count": 77,
   "metadata": {},
   "outputs": [],
   "source": [
    "train_df['Employee_Spouse_Indicator'] = train_df['Employee_Spouse_Indicator'].fillna(0)"
   ]
  },
  {
   "cell_type": "code",
   "execution_count": 81,
   "metadata": {},
   "outputs": [],
   "source": [
    "train_df['Employee_Spouse_Indicator'] = train_df['Employee_Spouse_Indicator'].astype('category')"
   ]
  },
  {
   "cell_type": "code",
   "execution_count": 88,
   "metadata": {},
   "outputs": [],
   "source": [
    "# Start by encoding 'Employee_Spouse_Indicator' to numeric (S: 1, N: 0)\n",
    "test_df['Employee_Spouse_Indicator'] = test_df['Employee_Spouse_Indicator'].replace({'S': 1, 'N': 0})"
   ]
  },
  {
   "cell_type": "code",
   "execution_count": 89,
   "metadata": {},
   "outputs": [],
   "source": [
    "test_df['Employee_Spouse_Indicator'] = test_df['Employee_Spouse_Indicator'].fillna(0)"
   ]
  },
  {
   "cell_type": "code",
   "execution_count": 90,
   "metadata": {},
   "outputs": [],
   "source": [
    "test_df['Employee_Spouse_Indicator'] = test_df['Employee_Spouse_Indicator'].astype('category')"
   ]
  },
  {
   "cell_type": "code",
   "execution_count": 92,
   "metadata": {},
   "outputs": [
    {
     "data": {
      "text/html": [
       "<div>\n",
       "<style scoped>\n",
       "    .dataframe tbody tr th:only-of-type {\n",
       "        vertical-align: middle;\n",
       "    }\n",
       "\n",
       "    .dataframe tbody tr th {\n",
       "        vertical-align: top;\n",
       "    }\n",
       "\n",
       "    .dataframe thead th {\n",
       "        text-align: right;\n",
       "    }\n",
       "</style>\n",
       "<table border=\"1\" class=\"dataframe\">\n",
       "  <thead>\n",
       "    <tr style=\"text-align: right;\">\n",
       "      <th></th>\n",
       "      <th>Data_Partition_Date</th>\n",
       "      <th>Customer_ID</th>\n",
       "      <th>Employee_Status</th>\n",
       "      <th>Country_of_Residence</th>\n",
       "      <th>Gender</th>\n",
       "      <th>Age</th>\n",
       "      <th>Account_Start_Date</th>\n",
       "      <th>New_Customer_Indicator</th>\n",
       "      <th>Seniority_Months</th>\n",
       "      <th>Customer_Relationship_Type</th>\n",
       "      <th>Last_Primary_Customer_Date</th>\n",
       "      <th>Initial_Customer_Type</th>\n",
       "      <th>Initial_Relationship_Type</th>\n",
       "      <th>Residence_Indicator</th>\n",
       "      <th>Foreigner_Indicator</th>\n",
       "      <th>Employee_Spouse_Indicator</th>\n",
       "      <th>Joining_Channel</th>\n",
       "      <th>Deceased_Indicator</th>\n",
       "      <th>Address_Type</th>\n",
       "      <th>Province_Code</th>\n",
       "      <th>Province_Name</th>\n",
       "      <th>Customer_Activity_Indicator</th>\n",
       "      <th>Household_Income</th>\n",
       "      <th>Customer_Segment</th>\n",
       "      <th>Savings_Account</th>\n",
       "      <th>Guarantee_Account</th>\n",
       "      <th>Current_Account</th>\n",
       "      <th>Derivative_Account</th>\n",
       "      <th>Payroll_Account</th>\n",
       "      <th>Junior_Account</th>\n",
       "      <th>Mas_Particular_Account</th>\n",
       "      <th>Particular_Account</th>\n",
       "      <th>Particular_Plus_Account</th>\n",
       "      <th>Short_term_Deposits</th>\n",
       "      <th>Medium_term_Deposits</th>\n",
       "      <th>Long_term_Deposits</th>\n",
       "      <th>E_Account</th>\n",
       "      <th>Funds_Account</th>\n",
       "      <th>Mortgage_Account</th>\n",
       "      <th>Pension_Account</th>\n",
       "      <th>Loan_Account</th>\n",
       "      <th>Tax_Account</th>\n",
       "      <th>Credit_Card_Account</th>\n",
       "      <th>Securities_Account</th>\n",
       "      <th>Home_Account</th>\n",
       "      <th>Payroll_Account</th>\n",
       "      <th>Pension_Account</th>\n",
       "      <th>Direct_Debit</th>\n",
       "      <th>Customer_ID_numeric</th>\n",
       "      <th>Estimated_start_date</th>\n",
       "      <th>Employee_Spouse_Indicator_encoded</th>\n",
       "    </tr>\n",
       "  </thead>\n",
       "  <tbody>\n",
       "    <tr>\n",
       "      <th>0</th>\n",
       "      <td>2015-01-28</td>\n",
       "      <td>1375586</td>\n",
       "      <td>N</td>\n",
       "      <td>ES</td>\n",
       "      <td>M</td>\n",
       "      <td>35.0</td>\n",
       "      <td>2015-01-12</td>\n",
       "      <td>0</td>\n",
       "      <td>6</td>\n",
       "      <td>1</td>\n",
       "      <td>1900-01-01</td>\n",
       "      <td>1</td>\n",
       "      <td>A</td>\n",
       "      <td>Yes</td>\n",
       "      <td>No</td>\n",
       "      <td>0.0</td>\n",
       "      <td>KHL</td>\n",
       "      <td>N</td>\n",
       "      <td>1.0</td>\n",
       "      <td>29.0</td>\n",
       "      <td>MALAGA</td>\n",
       "      <td>1.0</td>\n",
       "      <td>87218.10</td>\n",
       "      <td>02 - PARTICULARES</td>\n",
       "      <td>0</td>\n",
       "      <td>0</td>\n",
       "      <td>1</td>\n",
       "      <td>0</td>\n",
       "      <td>0</td>\n",
       "      <td>0</td>\n",
       "      <td>0</td>\n",
       "      <td>0</td>\n",
       "      <td>0</td>\n",
       "      <td>0</td>\n",
       "      <td>0</td>\n",
       "      <td>0</td>\n",
       "      <td>0</td>\n",
       "      <td>0</td>\n",
       "      <td>0</td>\n",
       "      <td>0</td>\n",
       "      <td>0</td>\n",
       "      <td>0</td>\n",
       "      <td>0</td>\n",
       "      <td>0</td>\n",
       "      <td>0</td>\n",
       "      <td>0.0</td>\n",
       "      <td>0.0</td>\n",
       "      <td>0</td>\n",
       "      <td>1375586</td>\n",
       "      <td>2015-01-27 23:54:00</td>\n",
       "      <td>NaN</td>\n",
       "    </tr>\n",
       "    <tr>\n",
       "      <th>1</th>\n",
       "      <td>2015-01-28</td>\n",
       "      <td>1050611</td>\n",
       "      <td>N</td>\n",
       "      <td>ES</td>\n",
       "      <td>F</td>\n",
       "      <td>23.0</td>\n",
       "      <td>2012-08-10</td>\n",
       "      <td>0</td>\n",
       "      <td>35</td>\n",
       "      <td>1</td>\n",
       "      <td>1900-01-01</td>\n",
       "      <td>1</td>\n",
       "      <td>I</td>\n",
       "      <td>Yes</td>\n",
       "      <td>Yes</td>\n",
       "      <td>0.0</td>\n",
       "      <td>KHE</td>\n",
       "      <td>N</td>\n",
       "      <td>1.0</td>\n",
       "      <td>13.0</td>\n",
       "      <td>CIUDAD REAL</td>\n",
       "      <td>0.0</td>\n",
       "      <td>35548.74</td>\n",
       "      <td>03 - UNIVERSITARIO</td>\n",
       "      <td>0</td>\n",
       "      <td>0</td>\n",
       "      <td>1</td>\n",
       "      <td>0</td>\n",
       "      <td>0</td>\n",
       "      <td>0</td>\n",
       "      <td>0</td>\n",
       "      <td>0</td>\n",
       "      <td>0</td>\n",
       "      <td>0</td>\n",
       "      <td>0</td>\n",
       "      <td>0</td>\n",
       "      <td>0</td>\n",
       "      <td>0</td>\n",
       "      <td>0</td>\n",
       "      <td>0</td>\n",
       "      <td>0</td>\n",
       "      <td>0</td>\n",
       "      <td>0</td>\n",
       "      <td>0</td>\n",
       "      <td>0</td>\n",
       "      <td>0.0</td>\n",
       "      <td>0.0</td>\n",
       "      <td>0</td>\n",
       "      <td>1050611</td>\n",
       "      <td>2015-01-27 23:25:00</td>\n",
       "      <td>NaN</td>\n",
       "    </tr>\n",
       "  </tbody>\n",
       "</table>\n",
       "</div>"
      ],
      "text/plain": [
       "  Data_Partition_Date  Customer_ID Employee_Status Country_of_Residence  \\\n",
       "0          2015-01-28      1375586               N                   ES   \n",
       "1          2015-01-28      1050611               N                   ES   \n",
       "\n",
       "  Gender   Age Account_Start_Date  New_Customer_Indicator  Seniority_Months  \\\n",
       "0      M  35.0         2015-01-12                       0                 6   \n",
       "1      F  23.0         2012-08-10                       0                35   \n",
       "\n",
       "   Customer_Relationship_Type Last_Primary_Customer_Date  \\\n",
       "0                           1                 1900-01-01   \n",
       "1                           1                 1900-01-01   \n",
       "\n",
       "  Initial_Customer_Type Initial_Relationship_Type Residence_Indicator  \\\n",
       "0                     1                         A                 Yes   \n",
       "1                     1                         I                 Yes   \n",
       "\n",
       "  Foreigner_Indicator Employee_Spouse_Indicator Joining_Channel  \\\n",
       "0                  No                       0.0             KHL   \n",
       "1                 Yes                       0.0             KHE   \n",
       "\n",
       "  Deceased_Indicator  Address_Type  Province_Code Province_Name  \\\n",
       "0                  N           1.0           29.0        MALAGA   \n",
       "1                  N           1.0           13.0   CIUDAD REAL   \n",
       "\n",
       "   Customer_Activity_Indicator  Household_Income    Customer_Segment  \\\n",
       "0                          1.0          87218.10   02 - PARTICULARES   \n",
       "1                          0.0          35548.74  03 - UNIVERSITARIO   \n",
       "\n",
       "   Savings_Account  Guarantee_Account  Current_Account  Derivative_Account  \\\n",
       "0                0                  0                1                   0   \n",
       "1                0                  0                1                   0   \n",
       "\n",
       "   Payroll_Account  Junior_Account  Mas_Particular_Account  \\\n",
       "0                0               0                       0   \n",
       "1                0               0                       0   \n",
       "\n",
       "   Particular_Account  Particular_Plus_Account  Short_term_Deposits  \\\n",
       "0                   0                        0                    0   \n",
       "1                   0                        0                    0   \n",
       "\n",
       "   Medium_term_Deposits  Long_term_Deposits  E_Account  Funds_Account  \\\n",
       "0                     0                   0          0              0   \n",
       "1                     0                   0          0              0   \n",
       "\n",
       "   Mortgage_Account  Pension_Account  Loan_Account  Tax_Account  \\\n",
       "0                 0                0             0            0   \n",
       "1                 0                0             0            0   \n",
       "\n",
       "   Credit_Card_Account  Securities_Account  Home_Account  Payroll_Account  \\\n",
       "0                    0                   0             0              0.0   \n",
       "1                    0                   0             0              0.0   \n",
       "\n",
       "   Pension_Account  Direct_Debit  Customer_ID_numeric Estimated_start_date  \\\n",
       "0              0.0             0              1375586  2015-01-27 23:54:00   \n",
       "1              0.0             0              1050611  2015-01-27 23:25:00   \n",
       "\n",
       "   Employee_Spouse_Indicator_encoded  \n",
       "0                                NaN  \n",
       "1                                NaN  "
      ]
     },
     "execution_count": 92,
     "metadata": {},
     "output_type": "execute_result"
    }
   ],
   "source": [
    "train_df.head(2)"
   ]
  },
  {
   "cell_type": "markdown",
   "metadata": {},
   "source": [
    "### Next column - Joining_channel"
   ]
  },
  {
   "cell_type": "code",
   "execution_count": null,
   "metadata": {},
   "outputs": [],
   "source": [
    "unique_values= train_df['Joining_Channel'].value_counts()\n",
    "print(unique_values.head(20))"
   ]
  },
  {
   "cell_type": "code",
   "execution_count": 104,
   "metadata": {},
   "outputs": [],
   "source": [
    "# Get the top 10 most frequent joining channels\n",
    "top_channels = train_df['Joining_Channel'].value_counts().head(10).index.tolist()\n",
    "\n",
    "# Fill NA values with the most frequent channel (you can adjust this to a random choice or a specific channel)\n",
    "train_df['Joining_Channel'] = train_df['Joining_Channel'].fillna(pd.Series(top_channels).sample(frac=1).iloc[0])"
   ]
  },
  {
   "cell_type": "code",
   "execution_count": 108,
   "metadata": {},
   "outputs": [],
   "source": [
    "# Get the top 10 most frequent joining channels\n",
    "top_channels = test_df['Joining_Channel'].value_counts().head(10).index.tolist()\n",
    "\n",
    "# Fill NA values with the most frequent channel (you can adjust this to a random choice or a specific channel)\n",
    "test_df['Joining_Channel'] = test_df['Joining_Channel'].fillna(pd.Series(top_channels).sample(frac=1).iloc[0])"
   ]
  },
  {
   "cell_type": "code",
   "execution_count": 109,
   "metadata": {},
   "outputs": [
    {
     "data": {
      "text/plain": [
       "0"
      ]
     },
     "execution_count": 109,
     "metadata": {},
     "output_type": "execute_result"
    }
   ],
   "source": [
    "test_df['Joining_Channel'].isna().sum()"
   ]
  },
  {
   "cell_type": "markdown",
   "metadata": {},
   "source": [
    "### Next column - Deceased_Indicator"
   ]
  },
  {
   "cell_type": "code",
   "execution_count": 117,
   "metadata": {},
   "outputs": [
    {
     "name": "stdout",
     "output_type": "stream",
     "text": [
      "N    13612547\n",
      "S       34762\n",
      "Name: Deceased_Indicator, dtype: int64\n"
     ]
    }
   ],
   "source": [
    "unique_values=train_df['Deceased_Indicator'].value_counts()\n",
    "print(unique_values)"
   ]
  },
  {
   "cell_type": "code",
   "execution_count": 115,
   "metadata": {},
   "outputs": [],
   "source": [
    "train_df['Deceased_Indicator'] = train_df['Deceased_Indicator'].fillna('N')"
   ]
  },
  {
   "cell_type": "markdown",
   "metadata": {},
   "source": [
    "### Next Column -Address_Type"
   ]
  },
  {
   "cell_type": "code",
   "execution_count": 123,
   "metadata": {},
   "outputs": [
    {
     "name": "stdout",
     "output_type": "stream",
     "text": [
      "1    13647309\n",
      "Name: Address_Type, dtype: int64\n"
     ]
    }
   ],
   "source": [
    "unique_values = train_df['Address_Type'].value_counts()\n",
    "print(unique_values)"
   ]
  },
  {
   "cell_type": "code",
   "execution_count": 121,
   "metadata": {},
   "outputs": [],
   "source": [
    "train_df['Address_Type'] = train_df['Address_Type'].fillna(1)"
   ]
  },
  {
   "cell_type": "code",
   "execution_count": 122,
   "metadata": {},
   "outputs": [],
   "source": [
    "train_df['Address_Type'] = train_df['Address_Type'].astype(int)"
   ]
  },
  {
   "cell_type": "markdown",
   "metadata": {},
   "source": [
    "### Next column - Province_Code and Province_Name"
   ]
  },
  {
   "cell_type": "code",
   "execution_count": 142,
   "metadata": {},
   "outputs": [
    {
     "data": {
      "text/plain": [
       "0"
      ]
     },
     "execution_count": 142,
     "metadata": {},
     "output_type": "execute_result"
    }
   ],
   "source": [
    "train_df['Province_Code'].isna().sum()"
   ]
  },
  {
   "cell_type": "code",
   "execution_count": 141,
   "metadata": {},
   "outputs": [
    {
     "data": {
      "text/plain": [
       "0"
      ]
     },
     "execution_count": 141,
     "metadata": {},
     "output_type": "execute_result"
    }
   ],
   "source": [
    "train_df['Province_Name'].isna().sum()"
   ]
  },
  {
   "cell_type": "code",
   "execution_count": 140,
   "metadata": {},
   "outputs": [],
   "source": [
    "mode_province_code = train_df['Province_Code'].mode()[0]\n",
    "mode_province_name = train_df['Province_Name'].mode()[0]\n",
    "\n",
    "train_df['Province_Code'] = train_df['Province_Code'].fillna(mode_province_code)\n",
    "train_df['Province_Name'] = train_df['Province_Name'].fillna(mode_province_name)\n"
   ]
  },
  {
   "cell_type": "code",
   "execution_count": 144,
   "metadata": {},
   "outputs": [],
   "source": [
    "mode_province_code = test_df['Province_Code'].mode()[0]\n",
    "mode_province_name = test_df['Province_Name'].mode()[0]\n",
    "\n",
    "test_df['Province_Code'] = test_df['Province_Code'].fillna(mode_province_code)\n",
    "test_df['Province_Name'] = test_df['Province_Name'].fillna(mode_province_name)\n"
   ]
  },
  {
   "cell_type": "markdown",
   "metadata": {},
   "source": [
    "### Next Column - Customer_Activity_Indicator"
   ]
  },
  {
   "cell_type": "code",
   "execution_count": 156,
   "metadata": {},
   "outputs": [
    {
     "data": {
      "text/plain": [
       "0"
      ]
     },
     "execution_count": 156,
     "metadata": {},
     "output_type": "execute_result"
    }
   ],
   "source": [
    "test_df['Customer_Activity_Indicator'].isna().sum()"
   ]
  },
  {
   "cell_type": "code",
   "execution_count": 150,
   "metadata": {},
   "outputs": [
    {
     "name": "stdout",
     "output_type": "stream",
     "text": [
      "0    534276\n",
      "1    395339\n",
      "Name: Customer_Activity_Indicator, dtype: int64\n"
     ]
    }
   ],
   "source": [
    "unique_values = test_df['Customer_Activity_Indicator'].value_counts()\n",
    "print(unique_values)"
   ]
  },
  {
   "cell_type": "code",
   "execution_count": 153,
   "metadata": {},
   "outputs": [],
   "source": [
    "# Fill missing values proportionally\n",
    "activity_proportions = train_df['Customer_Activity_Indicator'].value_counts(normalize=True)\n",
    "missing_mask = train_df['Customer_Activity_Indicator'].isna()\n",
    "\n",
    "train_df.loc[missing_mask, 'Customer_Activity_Indicator'] = np.random.choice(\n",
    "    activity_proportions.index, \n",
    "    size=missing_mask.sum(), \n",
    "    p=activity_proportions.values\n",
    ")"
   ]
  },
  {
   "cell_type": "code",
   "execution_count": 154,
   "metadata": {},
   "outputs": [],
   "source": [
    "# Convert to int\n",
    "train_df['Customer_Activity_Indicator'] = train_df['Customer_Activity_Indicator'].astype(int)"
   ]
  },
  {
   "cell_type": "markdown",
   "metadata": {},
   "source": [
    "### House hold income"
   ]
  },
  {
   "cell_type": "code",
   "execution_count": 190,
   "metadata": {},
   "outputs": [],
   "source": [
    "train_df['Household_Income']=train_df['Household_Income'].fillna(method='ffill')\n",
    "train_df['Household_Income']=train_df['Household_Income'].fillna(method='bfill')\n"
   ]
  },
  {
   "cell_type": "code",
   "execution_count": 189,
   "metadata": {},
   "outputs": [
    {
     "name": "stdout",
     "output_type": "stream",
     "text": [
      "451931.22    5582\n",
      "463625.16    1743\n",
      "181042.20    1493\n",
      "128318.52    1404\n",
      "105260.88    1354\n",
      "             ... \n",
      "100303.05       1\n",
      "119497.38       1\n",
      "74566.20        1\n",
      "78719.40        1\n",
      "133142.67       1\n",
      "Name: Household_Income, Length: 520993, dtype: int64\n"
     ]
    }
   ],
   "source": [
    "unique_values = train_df['Household_Income'].value_counts()\n",
    "print(unique_values)"
   ]
  },
  {
   "cell_type": "code",
   "execution_count": 191,
   "metadata": {},
   "outputs": [
    {
     "data": {
      "text/plain": [
       "0"
      ]
     },
     "execution_count": 191,
     "metadata": {},
     "output_type": "execute_result"
    }
   ],
   "source": [
    "train_df['Household_Income'].isna().sum()"
   ]
  },
  {
   "cell_type": "markdown",
   "metadata": {},
   "source": [
    "## next column - Customer segmentation"
   ]
  },
  {
   "cell_type": "code",
   "execution_count": 198,
   "metadata": {},
   "outputs": [
    {
     "name": "stdout",
     "output_type": "stream",
     "text": [
      "02 - PARTICULARES     7960220\n",
      "03 - UNIVERSITARIO    4935579\n",
      "01 - TOP               562142\n",
      "Name: Customer_Segment, dtype: int64\n"
     ]
    }
   ],
   "source": [
    "unique_values=train_df['Customer_Segment'].value_counts()\n",
    "print(unique_values)"
   ]
  },
  {
   "cell_type": "code",
   "execution_count": null,
   "metadata": {},
   "outputs": [],
   "source": [
    "train_df['Customer_Segment'] = train_df['Customer_Segment'].fillna(train_df['Customer_Segment'].mode()[0])"
   ]
  },
  {
   "cell_type": "code",
   "execution_count": 203,
   "metadata": {},
   "outputs": [],
   "source": [
    "test_df['Customer_Segment'] = test_df['Customer_Segment'].fillna(train_df['Customer_Segment'].mode()[0])"
   ]
  },
  {
   "cell_type": "code",
   "execution_count": 215,
   "metadata": {},
   "outputs": [
    {
     "data": {
      "text/plain": [
       "Data_Partition_Date                0\n",
       "Customer_ID                        0\n",
       "Employee_Status                    0\n",
       "Country_of_Residence               0\n",
       "Gender                             0\n",
       "Age                                0\n",
       "Account_Start_Date                 0\n",
       "New_Customer_Indicator             0\n",
       "Seniority_Months                   0\n",
       "Customer_Relationship_Type         0\n",
       "Last_Primary_Customer_Date         0\n",
       "Initial_Customer_Type              0\n",
       "Initial_Relationship_Type          0\n",
       "Residence_Indicator                0\n",
       "Foreigner_Indicator                0\n",
       "Employee_Spouse_Indicator          0\n",
       "Joining_Channel                    0\n",
       "Deceased_Indicator                 0\n",
       "Address_Type                       0\n",
       "Province_Code                      0\n",
       "Province_Name                      0\n",
       "Customer_Activity_Indicator        0\n",
       "Household_Income                   0\n",
       "Customer_Segment                   0\n",
       "Savings_Account                    0\n",
       "Guarantee_Account                  0\n",
       "Current_Account                    0\n",
       "Derivative_Account                 0\n",
       "Payroll_Account                    0\n",
       "Junior_Account                     0\n",
       "Mas_Particular_Account             0\n",
       "Particular_Account                 0\n",
       "Particular_Plus_Account            0\n",
       "Short_term_Deposits                0\n",
       "Medium_term_Deposits               0\n",
       "Long_term_Deposits                 0\n",
       "E_Account                          0\n",
       "Funds_Account                      0\n",
       "Mortgage_Account                   0\n",
       "Pension_Account                    0\n",
       "Loan_Account                       0\n",
       "Tax_Account                        0\n",
       "Credit_Card_Account                0\n",
       "Securities_Account                 0\n",
       "Home_Account                       0\n",
       "Payroll_Account                16063\n",
       "Pension_Account                16063\n",
       "Direct_Debit                       0\n",
       "dtype: int64"
      ]
     },
     "execution_count": 215,
     "metadata": {},
     "output_type": "execute_result"
    }
   ],
   "source": [
    "train_df.isna().sum()"
   ]
  },
  {
   "cell_type": "markdown",
   "metadata": {},
   "source": [
    "## Next column"
   ]
  },
  {
   "cell_type": "code",
   "execution_count": 214,
   "metadata": {},
   "outputs": [
    {
     "data": {
      "text/plain": [
       "<bound method NDFrame.describe of           Payroll_Account  Payroll_Account\n",
       "0                       0              0.0\n",
       "1                       0              0.0\n",
       "2                       0              0.0\n",
       "3                       0              0.0\n",
       "4                       0              0.0\n",
       "...                   ...              ...\n",
       "13647304                0              0.0\n",
       "13647305                0              0.0\n",
       "13647306                0              0.0\n",
       "13647307                0              0.0\n",
       "13647308                0              0.0\n",
       "\n",
       "[13647309 rows x 2 columns]>"
      ]
     },
     "execution_count": 214,
     "metadata": {},
     "output_type": "execute_result"
    }
   ],
   "source": [
    "train_df['Payroll_Account'].describe"
   ]
  },
  {
   "cell_type": "code",
   "execution_count": null,
   "metadata": {},
   "outputs": [],
   "source": []
  }
 ],
 "metadata": {
  "kernelspec": {
   "display_name": "base",
   "language": "python",
   "name": "python3"
  },
  "language_info": {
   "codemirror_mode": {
    "name": "ipython",
    "version": 3
   },
   "file_extension": ".py",
   "mimetype": "text/x-python",
   "name": "python",
   "nbconvert_exporter": "python",
   "pygments_lexer": "ipython3",
   "version": "3.9.12"
  }
 },
 "nbformat": 4,
 "nbformat_minor": 2
}
